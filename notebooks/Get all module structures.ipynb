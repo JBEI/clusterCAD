{
 "cells": [
  {
   "cell_type": "code",
   "execution_count": 1,
   "metadata": {
    "collapsed": true,
    "deletable": true,
    "editable": true
   },
   "outputs": [],
   "source": [
    "import os, sys\n",
    "sys.path.insert(0, '/clusterCAD')\n",
    "os.environ.setdefault(\"DJANGO_SETTINGS_MODULE\", \"clusterCAD.settings\")\n",
    "import django\n",
    "django.setup()"
   ]
  },
  {
   "cell_type": "code",
   "execution_count": 2,
   "metadata": {
    "collapsed": true,
    "deletable": true,
    "editable": true
   },
   "outputs": [],
   "source": [
    "import pks.models\n",
    "from model_utils.managers import InheritanceManager"
   ]
  },
  {
   "cell_type": "markdown",
   "metadata": {
    "deletable": true,
    "editable": true
   },
   "source": [
    "Get all nonloading modules with reductive loops"
   ]
  },
  {
   "cell_type": "code",
   "execution_count": 79,
   "metadata": {
    "collapsed": false,
    "deletable": true,
    "editable": true
   },
   "outputs": [
    {
     "data": {
      "text/plain": [
       "1022"
      ]
     },
     "execution_count": 79,
     "metadata": {},
     "output_type": "execute_result"
    }
   ],
   "source": [
    "allModules = pks.models.Module.objects.all()\n",
    "fullLoopModules = []\n",
    "len(allModules)"
   ]
  },
  {
   "cell_type": "code",
   "execution_count": 80,
   "metadata": {
    "collapsed": false,
    "deletable": true,
    "editable": true
   },
   "outputs": [],
   "source": [
    "for module in allModules:\n",
    "    domainTypes = [repr(x) for x in module.domains().select_subclasses()]\n",
    "    reductiveDomainCount = len(list(filter(lambda domain: domain in ['DH', 'ER', 'KR'], domainTypes)))\n",
    "    if not module.loading:\n",
    "        if reductiveDomainCount > 2:\n",
    "            fullLoopModules.append(module)"
   ]
  },
  {
   "cell_type": "code",
   "execution_count": 81,
   "metadata": {
    "collapsed": false,
    "deletable": true,
    "editable": true
   },
   "outputs": [
    {
     "data": {
      "text/plain": [
       "135"
      ]
     },
     "execution_count": 81,
     "metadata": {},
     "output_type": "execute_result"
    }
   ],
   "source": [
    "len(fullLoopModules)"
   ]
  },
  {
   "cell_type": "code",
   "execution_count": 69,
   "metadata": {
    "collapsed": false,
    "deletable": true,
    "editable": true
   },
   "outputs": [
    {
     "data": {
      "text/plain": [
       "'BGC0000001.1'"
      ]
     },
     "execution_count": 69,
     "metadata": {},
     "output_type": "execute_result"
    }
   ],
   "source": [
    "fullLoopModules[0].product.smiles\n",
    "fullLoopModules[0].order\n",
    "fullLoopModules[0].subunit.cluster.description\n",
    "fullLoopModules[0].subunit.cluster.mibigAccession\n"
   ]
  },
  {
   "cell_type": "code",
   "execution_count": 82,
   "metadata": {
    "collapsed": true,
    "deletable": true,
    "editable": true
   },
   "outputs": [],
   "source": [
    "file = open(\"clusterSmiles\",\"w\") \n",
    "for module in fullLoopModules:\n",
    "    file.write(\"%s\\t%s_module_%s\\n\" % (module.product.smiles, module.subunit.cluster.mibigAccession, module.order))\n",
    "file.close()"
   ]
  },
  {
   "cell_type": "markdown",
   "metadata": {
    "deletable": true,
    "editable": true
   },
   "source": [
    "# Extract didomain sequences"
   ]
  },
  {
   "cell_type": "code",
   "execution_count": 26,
   "metadata": {
    "collapsed": true,
    "deletable": true,
    "editable": true
   },
   "outputs": [],
   "source": [
    "from Bio import Seq, SeqRecord, SeqIO\n",
    "from Bio.Alphabet import IUPAC"
   ]
  },
  {
   "cell_type": "code",
   "execution_count": 155,
   "metadata": {
    "collapsed": false,
    "deletable": true,
    "editable": true
   },
   "outputs": [],
   "source": [
    "allModules = pks.models.Module.objects.all()"
   ]
  },
  {
   "cell_type": "code",
   "execution_count": 7,
   "metadata": {
    "collapsed": false,
    "deletable": true,
    "editable": true
   },
   "outputs": [
    {
     "data": {
      "text/plain": [
       "1010"
      ]
     },
     "execution_count": 7,
     "metadata": {},
     "output_type": "execute_result"
    }
   ],
   "source": [
    "len(ksATModules)"
   ]
  },
  {
   "cell_type": "code",
   "execution_count": 159,
   "metadata": {
    "collapsed": false,
    "deletable": true,
    "editable": true
   },
   "outputs": [],
   "source": [
    "didomainTypes = [['AT', 'DH'], ['AT', 'KR'], ['KR', 'ACP'], ['ACP', 'TE']]\n",
    "for didomainType in didomainTypes:\n",
    "    myModules = []\n",
    "    for module in allModules:\n",
    "        domainTypes = [repr(x) for x in module.domains().select_subclasses()]\n",
    "        for i, x in enumerate(domainTypes):\n",
    "            if x == didomainType[0]:\n",
    "                if len(domainTypes) < (i + 2):\n",
    "                    continue\n",
    "                if domainTypes[i + 1] == didomainType[1]:\n",
    "                    if not module.loading:\n",
    "                        myModules.append(module)\n",
    "    name = didomainType[0] + didomainType[1]\n",
    "    with open(name + '.fasta', 'w') as f:\n",
    "        for module in myModules:\n",
    "            domains = module.domains().select_subclasses()\n",
    "            domain1 = list(filter(lambda domain: repr(domain) == didomainType[0], domains))[0]\n",
    "            domain2 = list(filter(lambda domain: repr(domain) == didomainType[1], domains))[0]\n",
    "            assert domain1.start < domain2.stop\n",
    "            sequence = module.subunit.getAminoAcidSequence()\n",
    "            sequence = sequence[(domain1.start - 1):domain2.stop]\n",
    "            moduleTitle = name + '_' + module.subunit.cluster.mibigAccession + '_' + str(module.subunit.name) + '_mod' + str(module.order)\n",
    "            moduleTitle = \"_\".join(moduleTitle.split())\n",
    "            sseq = SeqRecord.SeqRecord(Seq.Seq(sequence, IUPAC.protein),\n",
    "                                           id=moduleTitle,\n",
    "                                           name='',\n",
    "                                           description=''\n",
    "                                          )\n",
    "            SeqIO.write(sseq, f, \"fasta\")"
   ]
  },
  {
   "cell_type": "markdown",
   "metadata": {},
   "source": [
    "# extract all TEs"
   ]
  },
  {
   "cell_type": "code",
   "execution_count": 160,
   "metadata": {
    "collapsed": true
   },
   "outputs": [],
   "source": [
    "from pks.models import TE\n",
    "tes = TE.objects.all()"
   ]
  },
  {
   "cell_type": "code",
   "execution_count": 166,
   "metadata": {
    "collapsed": false
   },
   "outputs": [],
   "source": [
    "with open('TE.fasta', 'w') as f:\n",
    "    for te in tes:\n",
    "        module = te.module\n",
    "        moduleTitle = 'TE_' + module.subunit.cluster.mibigAccession + '_' + str(module.subunit.name) + '_mod' + str(module.order)\n",
    "        moduleTitle = \"_\".join(moduleTitle.split())\n",
    "        if te.cyclic:\n",
    "            moduleTitle += \"_cyclic\"\n",
    "        sequence = te.getAminoAcidSequence()\n",
    "        sseq = SeqRecord.SeqRecord(Seq.Seq(sequence, IUPAC.protein),\n",
    "                               id=moduleTitle,\n",
    "                               name='',\n",
    "                               description=''\n",
    "                              )\n",
    "        SeqIO.write(sseq, f, \"fasta\")"
   ]
  },
  {
   "cell_type": "markdown",
   "metadata": {
    "deletable": true,
    "editable": true
   },
   "source": [
    "# Get all active reductive loop structures"
   ]
  },
  {
   "cell_type": "code",
   "execution_count": 143,
   "metadata": {
    "collapsed": false,
    "deletable": true,
    "editable": true
   },
   "outputs": [],
   "source": [
    "myModules = []\n",
    "for module in allModules:\n",
    "    domains = module.domains()\n",
    "    domainTypes = [repr(x) for x in domains]\n",
    "    if domainTypes[1:6] != ['AT', 'DH', 'ER', 'KR', 'ACP']:\n",
    "        continue\n",
    "    if domains[1].substrate not in ['mal', 'mmal']:\n",
    "        continue\n",
    "    if domains[4].type not in ['A1', 'A2', 'B1', 'B2', 'U']:\n",
    "        continue\n",
    "    if module.loading:\n",
    "        continue \n",
    "    reductiveActivity = [domains[2].active, domains[3].active, domains[4].active]\n",
    "    if reductiveActivity != [True, True, True]:\n",
    "        continue\n",
    "    myModules.append(module)"
   ]
  },
  {
   "cell_type": "code",
   "execution_count": 146,
   "metadata": {
    "collapsed": false,
    "deletable": true,
    "editable": true
   },
   "outputs": [],
   "source": [
    "name = \"DHERKR\"\n",
    "lengths = []\n",
    "with open(name + '.fasta', 'w') as f:\n",
    "    for module in myModules:\n",
    "        domains = module.domains()\n",
    "        domainAT = domains[1]\n",
    "        domainACP = domains[5]\n",
    "        assert domainAT.stop < domainACP.start\n",
    "        sequence = module.subunit.getAminoAcidSequence()\n",
    "        sequence = sequence[domainAT.stop:(domainACP.start - 1)]\n",
    "        lengths.append(len(sequence))\n",
    "        moduleTitle = name + '_' + module.subunit.cluster.mibigAccession + '_' + str(module.subunit.name) + '_mod' + str(module.order)\n",
    "        sseq = SeqRecord.SeqRecord(Seq.Seq(sequence, IUPAC.protein),\n",
    "                                       id=moduleTitle,\n",
    "                                       name='',\n",
    "                                       description=''\n",
    "                                      )\n",
    "        SeqIO.write(sseq, f, \"fasta\")"
   ]
  },
  {
   "cell_type": "code",
   "execution_count": 154,
   "metadata": {
    "collapsed": false,
    "deletable": true,
    "editable": true
   },
   "outputs": [
    {
     "data": {
      "text/plain": [
       "[1022, 120, 1252, 1032, 139086, 417258]"
      ]
     },
     "execution_count": 154,
     "metadata": {},
     "output_type": "execute_result"
    }
   ],
   "source": [
    "[len(allModules), len(myModules), max(lengths), min(lengths), sum(lengths), sum(lengths)*3]"
   ]
  },
  {
   "cell_type": "markdown",
   "metadata": {
    "deletable": true,
    "editable": true
   },
   "source": [
    "# Save list of all DH domains"
   ]
  },
  {
   "cell_type": "code",
   "execution_count": 64,
   "metadata": {
    "collapsed": false,
    "deletable": true,
    "editable": true
   },
   "outputs": [
    {
     "data": {
      "text/plain": [
       "591"
      ]
     },
     "execution_count": 64,
     "metadata": {},
     "output_type": "execute_result"
    }
   ],
   "source": [
    "from pks.models import DH\n",
    "allDH = DH.objects.all()\n",
    "allDHlabels = [x.module.subunit.cluster.mibigAccession + '_mod' + str(x.module.order) for x in allDH]\n",
    "len(allDHlabels)"
   ]
  },
  {
   "cell_type": "code",
   "execution_count": 52,
   "metadata": {
    "collapsed": true,
    "deletable": true,
    "editable": true
   },
   "outputs": [],
   "source": [
    "import pickle\n",
    "pickle.dump(allDHlabels, open( \"allDH.p\", \"wb\" ))"
   ]
  },
  {
   "cell_type": "code",
   "execution_count": 54,
   "metadata": {
    "collapsed": false,
    "deletable": true,
    "editable": true
   },
   "outputs": [],
   "source": [
    "productDHs = pickle.load(open(\"productionDHs.p\", \"rb\"))"
   ]
  },
  {
   "cell_type": "code",
   "execution_count": 65,
   "metadata": {
    "collapsed": true,
    "deletable": true,
    "editable": true
   },
   "outputs": [],
   "source": [
    "onlyInProduction = []\n",
    "for domain in productDHs:\n",
    "    if domain not in allDHlabels:\n",
    "        onlyInProduction.append(domain)"
   ]
  },
  {
   "cell_type": "code",
   "execution_count": 66,
   "metadata": {
    "collapsed": false,
    "deletable": true,
    "editable": true
   },
   "outputs": [
    {
     "data": {
      "text/plain": [
       "['BGC0001359.1_mod1',\n",
       " 'BGC0000035.1_mod4',\n",
       " 'BGC0000054.1_mod1',\n",
       " 'BGC0000069.1_mod3',\n",
       " 'BGC0000166.1_mod1',\n",
       " 'BGC0001396.1_mod1',\n",
       " 'BGC0001396.1_mod5',\n",
       " 'BGC0000102.1_mod4',\n",
       " 'BGC0000094.1_mod1',\n",
       " 'BGC0000047.1_mod4',\n",
       " 'BGC0000060.1_mod5',\n",
       " 'BGC0000149.1_mod4',\n",
       " 'BGC0000085.1_mod1',\n",
       " 'BGC0001046.1_mod0',\n",
       " 'BGC0000018.1_mod6']"
      ]
     },
     "execution_count": 66,
     "metadata": {},
     "output_type": "execute_result"
    }
   ],
   "source": [
    "onlyInProduction"
   ]
  }
 ],
 "metadata": {
  "kernelspec": {
   "display_name": "Python 3",
   "language": "python",
   "name": "python3"
  },
  "language_info": {
   "codemirror_mode": {
    "name": "ipython",
    "version": 3
   },
   "file_extension": ".py",
   "mimetype": "text/x-python",
   "name": "python",
   "nbconvert_exporter": "python",
   "pygments_lexer": "ipython3",
   "version": "3.4.2"
  }
 },
 "nbformat": 4,
 "nbformat_minor": 2
}
