{
 "cells": [
  {
   "cell_type": "code",
   "execution_count": 1,
   "metadata": {
    "collapsed": false,
    "deletable": true,
    "editable": true
   },
   "outputs": [],
   "source": [
    "import os, sys\n",
    "sys.path.insert(0, '/clusterCAD')\n",
    "os.environ.setdefault(\"DJANGO_SETTINGS_MODULE\", \"clusterCAD.settings\")\n",
    "import django\n",
    "django.setup()\n",
    "import pks.models\n",
    "import compounddb.models"
   ]
  },
  {
   "cell_type": "code",
   "execution_count": 2,
   "metadata": {
    "collapsed": false,
    "deletable": true,
    "editable": true
   },
   "outputs": [],
   "source": [
    "# save compounds in the database\n",
    "caf = compounddb.models.Compound(name=\"Caffeine\", smiles=\"O=C2N(c1ncn(c1C(=O)N2C)C)C\")\n",
    "# caf.computeInchi()\n",
    "caf.save()\n",
    "\n",
    "cw = compounddb.models.Compound(name=\"cw\", smiles=\"CCCC1=CC=C(C=C1)C(C)C(=O)O\")\n",
    "# cw.computeInchi()\n",
    "cw.save()"
   ]
  },
  {
   "cell_type": "code",
   "execution_count": 3,
   "metadata": {
    "collapsed": false,
    "deletable": true,
    "editable": true
   },
   "outputs": [
    {
     "data": {
      "text/plain": [
       "'RYYVLZVUVIJVGH-UHFFFAOYSA-N'"
      ]
     },
     "execution_count": 3,
     "metadata": {},
     "output_type": "execute_result"
    }
   ],
   "source": [
    "caf.inchiKey\n",
    "# caf.delete()"
   ]
  },
  {
   "cell_type": "code",
   "execution_count": 4,
   "metadata": {
    "collapsed": false,
    "deletable": true,
    "editable": true
   },
   "outputs": [
    {
     "data": {
      "text/plain": [
       "['cw']"
      ]
     },
     "execution_count": 4,
     "metadata": {},
     "output_type": "execute_result"
    }
   ],
   "source": [
    "# test substructure search\n",
    "compounds = compounddb.models.Compound.objects.raw('select \\\"inchiKey\\\" from compounddb_compound where m@>\\'CCCc1ccc(C(C)C(=O)O)cc1\\';')\n",
    "[x.name for x in compounds]"
   ]
  },
  {
   "cell_type": "code",
   "execution_count": 5,
   "metadata": {
    "collapsed": false,
    "deletable": true,
    "editable": true
   },
   "outputs": [
    {
     "data": {
      "text/plain": [
       "[(1.0, <rdkit.Chem.rdchem.Mol at 0x7fb623ac0ba8>),\n",
       " (0.816762530813476, <rdkit.Chem.rdchem.Mol at 0x7fb623ac0c78>),\n",
       " (0.673202614379085, <rdkit.Chem.rdchem.Mol at 0x7fb623ac0ce0>),\n",
       " (0.669565217391304, <rdkit.Chem.rdchem.Mol at 0x7fb623ac0d48>),\n",
       " (0.654761904761905, <rdkit.Chem.rdchem.Mol at 0x7fb623ac0db0>),\n",
       " (0.652068126520681, <rdkit.Chem.rdchem.Mol at 0x7fb623ac0e18>),\n",
       " (0.650429799426934, <rdkit.Chem.rdchem.Mol at 0x7fb623ac0e80>),\n",
       " (0.639070442992012, <rdkit.Chem.rdchem.Mol at 0x7fb623ac0f50>),\n",
       " (0.631024096385542, <rdkit.Chem.rdchem.Mol at 0x7fb623037048>),\n",
       " (0.629420084865629, <rdkit.Chem.rdchem.Mol at 0x7fb6230370b0>)]"
      ]
     },
     "execution_count": 5,
     "metadata": {},
     "output_type": "execute_result"
    }
   ],
   "source": [
    "# query for top 10 hits to make Erythromycin\n",
    "results = compounddb.models.Compound.atomPairSearch('COC(C(O)CC(=O)C(C)C(O)CC(O)C(C)C(O)C(C)C(O)CC(=O)CC(O)C(C)C(O)CC(O)C(C)C(=O)CC(=O)O)C(O)C(C)C', maxHits=10, minSim=0.2)\n",
    "[(result[0], result[1].mol()) for result in results]"
   ]
  },
  {
   "cell_type": "code",
   "execution_count": 6,
   "metadata": {
    "collapsed": false,
    "deletable": true,
    "editable": true
   },
   "outputs": [
    {
     "data": {
      "text/plain": [
       "[[(1.0,\n",
       "   <Cluster: Tautomycin pks gene cluster>,\n",
       "   <Subunit: ttmH pks subunit>,\n",
       "   <Module: 3>)],\n",
       " [(0.816762530813476,\n",
       "   <Cluster: Tautomycin pks gene cluster>,\n",
       "   <Subunit: ttmH pks subunit>,\n",
       "   <Module: 2>)],\n",
       " [(0.673202614379085,\n",
       "   <Cluster: Meilingmycin pks gene cluster>,\n",
       "   <Subunit: meiA4 pks subunit>,\n",
       "   <Module: 3>)],\n",
       " [(0.669565217391304,\n",
       "   <Cluster: Laidlomycin pks gene cluster>,\n",
       "   <Subunit: ladSVIII pks subunit>,\n",
       "   <Module: 2>)],\n",
       " [(0.654761904761905,\n",
       "   <Cluster: Nanchangmycin pks gene cluster>,\n",
       "   <Subunit: nanA8 pks subunit>,\n",
       "   <Module: 2>)],\n",
       " [(0.652068126520681,\n",
       "   <Cluster: Tautomycin pks gene cluster>,\n",
       "   <Subunit: ttmH pks subunit>,\n",
       "   <Module: 1>)],\n",
       " [(0.650429799426934,\n",
       "   <Cluster: Nanchangmycin pks gene cluster>,\n",
       "   <Subunit: nanA8 pks subunit>,\n",
       "   <Module: 1>)],\n",
       " [(0.639070442992012,\n",
       "   <Cluster: Naphthomycin pks gene cluster>,\n",
       "   <Subunit: natE pks subunit>,\n",
       "   <Module: 2>)],\n",
       " [(0.631024096385542,\n",
       "   <Cluster: Meilingmycin pks gene cluster>,\n",
       "   <Subunit: meiA4 pks subunit>,\n",
       "   <Module: 2>)],\n",
       " [(0.629420084865629,\n",
       "   <Cluster: Sanglifehrin A pks gene cluster>,\n",
       "   <Subunit: sfaI pks subunit>,\n",
       "   <Module: 2>)]]"
      ]
     },
     "execution_count": 6,
     "metadata": {},
     "output_type": "execute_result"
    }
   ],
   "source": [
    "# find which gene clusters, subunit, and module each top hit is from\n",
    "[[(result[0], module.subunit.cluster, module.subunit, module)\n",
    "  for module in pks.models.Module.objects.filter(product=result[1])]\n",
    "     for result in results]"
   ]
  }
 ],
 "metadata": {
  "kernelspec": {
   "display_name": "Python 3",
   "language": "python",
   "name": "python3"
  },
  "language_info": {
   "codemirror_mode": {
    "name": "ipython",
    "version": 3
   },
   "file_extension": ".py",
   "mimetype": "text/x-python",
   "name": "python",
   "nbconvert_exporter": "python",
   "pygments_lexer": "ipython3",
   "version": "3.4.2"
  }
 },
 "nbformat": 4,
 "nbformat_minor": 2
}
