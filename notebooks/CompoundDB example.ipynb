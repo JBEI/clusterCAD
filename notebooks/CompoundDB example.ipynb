{
 "cells": [
  {
   "cell_type": "code",
   "execution_count": 1,
   "metadata": {
    "collapsed": false,
    "deletable": true,
    "editable": true
   },
   "outputs": [],
   "source": [
    "import os, sys\n",
    "sys.path.insert(0, '/clusterCAD')\n",
    "os.environ.setdefault(\"DJANGO_SETTINGS_MODULE\", \"clusterCAD.settings\")\n",
    "import django\n",
    "django.setup()\n",
    "import pks.models\n",
    "import compounddb.models"
   ]
  },
  {
   "cell_type": "code",
   "execution_count": 2,
   "metadata": {
    "collapsed": false,
    "deletable": true,
    "editable": true
   },
   "outputs": [],
   "source": [
    "# save compounds in the database\n",
    "caf = compounddb.models.Compound(name=\"Caffeine\", smiles=\"O=C2N(c1ncn(c1C(=O)N2C)C)C\")\n",
    "# caf.computeInchi()\n",
    "caf.save()\n",
    "\n",
    "cw = compounddb.models.Compound(name=\"cw\", smiles=\"CCCC1=CC=C(C=C1)C(C)C(=O)O\")\n",
    "# cw.computeInchi()\n",
    "cw.save()"
   ]
  },
  {
   "cell_type": "code",
   "execution_count": 3,
   "metadata": {
    "collapsed": false,
    "deletable": true,
    "editable": true
   },
   "outputs": [
    {
     "data": {
      "text/plain": [
       "'RYYVLZVUVIJVGH-UHFFFAOYSA-N'"
      ]
     },
     "execution_count": 3,
     "metadata": {},
     "output_type": "execute_result"
    }
   ],
   "source": [
    "caf.aMW()\n",
    "caf.inchiKey\n",
    "# caf.delete()"
   ]
  },
  {
   "cell_type": "code",
   "execution_count": 4,
   "metadata": {
    "collapsed": false,
    "deletable": true,
    "editable": true
   },
   "outputs": [
    {
     "data": {
      "text/plain": [
       "['cw']"
      ]
     },
     "execution_count": 4,
     "metadata": {},
     "output_type": "execute_result"
    }
   ],
   "source": [
    "# test substructure search\n",
    "compounds = compounddb.models.Compound.objects.raw('select \\\"inchiKey\\\" from compounddb_compound where m@>\\'CCCc1ccc(C(C)C(=O)O)cc1\\';')\n",
    "[x.name for x in compounds]"
   ]
  },
  {
   "cell_type": "code",
   "execution_count": 5,
   "metadata": {
    "collapsed": false,
    "deletable": true,
    "editable": true
   },
   "outputs": [
    {
     "data": {
      "text/plain": [
       "[(1.0, <rdkit.Chem.rdchem.Mol at 0x7f682380ae18>),\n",
       " (0.884758364312268, <rdkit.Chem.rdchem.Mol at 0x7f682380a868>),\n",
       " (0.870445344129555, <rdkit.Chem.rdchem.Mol at 0x7f682380ac10>),\n",
       " (0.864969562811289, <rdkit.Chem.rdchem.Mol at 0x7f682380af50>),\n",
       " (0.860752386299832, <rdkit.Chem.rdchem.Mol at 0x7f682380adb0>),\n",
       " (0.807939287799183, <rdkit.Chem.rdchem.Mol at 0x7f682380ad48>),\n",
       " (0.805355303810505, <rdkit.Chem.rdchem.Mol at 0x7f6822d84048>),\n",
       " (0.796536796536797, <rdkit.Chem.rdchem.Mol at 0x7f6822d840b0>),\n",
       " (0.762241292276628, <rdkit.Chem.rdchem.Mol at 0x7f6822d84118>),\n",
       " (0.761052631578947, <rdkit.Chem.rdchem.Mol at 0x7f6822d84180>)]"
      ]
     },
     "execution_count": 5,
     "metadata": {},
     "output_type": "execute_result"
    }
   ],
   "source": [
    "# query for top 10 hits to make a desired compound\n",
    "queryString = 'CC(O)C(C)C(O)C(C)C(O)CC(O)CC(O)CC(O)CC(O)CC(O)CC(O)CC(O)CC(O)C(C)C(O)CC(=O)CC(O)CC(O)CC(O)CC(O)CC(=O)[S]'\n",
    "results = compounddb.models.Compound.atomPairSearch(queryString, maxHits=10, minSim=0.1)\n",
    "[(result[0], result[1].mol()) for result in results]"
   ]
  },
  {
   "cell_type": "code",
   "execution_count": 13,
   "metadata": {
    "collapsed": false,
    "deletable": true,
    "editable": true
   },
   "outputs": [
    {
     "name": "stdout",
     "output_type": "stream",
     "text": [
      "1.0\n",
      "(<Cluster: Amphotericin pks gene cluster>, <Subunit: amphJ pks subunit>, 'Module 18')\n",
      "(<Cluster: Nystatin pks gene cluster>, <Subunit: nysJ pks subunit>, 'Module 18')\n",
      "(<Cluster: Nystatin-like Pseudonocardia polyene pks gene cluster>, <Subunit: cppJ pks subunit>, 'Module 18')\n",
      "0.884758364312268\n",
      "(<Cluster: Amphotericin pks gene cluster>, <Subunit: amphJ pks subunit>, 'Module 17')\n",
      "(<Cluster: Nystatin pks gene cluster>, <Subunit: nysJ pks subunit>, 'Module 17')\n",
      "(<Cluster: Nystatin-like Pseudonocardia polyene pks gene cluster>, <Subunit: cppJ pks subunit>, 'Module 17')\n",
      "0.870445344129555\n",
      "(<Cluster: Candicidin pks gene cluster>, <Subunit: fscE pks subunit>, 'Module 18')\n",
      "0.864969562811289\n",
      "(<Cluster: Candicidin pks gene cluster>, <Subunit: fscE pks subunit>, 'Module 19')\n",
      "0.860752386299832\n",
      "(<Cluster: Nystatin-like Pseudonocardia polyene pks gene cluster>, <Subunit: cppK pks subunit>, 'Module 19')\n",
      "(<Cluster: Amphotericin pks gene cluster>, <Subunit: amphK pks subunit>, 'Module 19')\n",
      "0.807939287799183\n",
      "(<Cluster: Candicidin pks gene cluster>, <Subunit: fscE pks subunit>, 'Module 17')\n",
      "0.805355303810505\n",
      "(<Cluster: Candicidin pks gene cluster>, <Subunit: fscE pks subunit>, 'Module 20')\n",
      "0.796536796536797\n",
      "(<Cluster: Amphotericin pks gene cluster>, <Subunit: amphJ pks subunit>, 'Module 16')\n",
      "(<Cluster: Nystatin pks gene cluster>, <Subunit: nysJ pks subunit>, 'Module 16')\n",
      "(<Cluster: Nystatin-like Pseudonocardia polyene pks gene cluster>, <Subunit: cppJ pks subunit>, 'Module 16')\n",
      "0.762241292276628\n",
      "(<Cluster: Aculeximycin pks gene cluster>, <Subunit: acuAVII pks subunit>, 'Module 19')\n",
      "0.761052631578947\n",
      "(<Cluster: Aculeximycin pks gene cluster>, <Subunit: acuAVII pks subunit>, 'Module 18')\n"
     ]
    }
   ],
   "source": [
    "# find which gene clusters, subunit, and module each top hit is from\n",
    "[[(module.subunit.cluster, module.subunit, module)\n",
    "  for module in pks.models.Module.objects.filter(product=result[1])]\n",
    "     for result in results]\n",
    "\n",
    "def moduleOrder(self):\n",
    "    pos = list(pks.models.Module.objects.filter(subunit__cluster = self.subunit.cluster).order_by('subunit__order', 'order')).index(self)\n",
    "    return \"Module \" + str(pos + 1)\n",
    "    \n",
    "for result in results:\n",
    "    print(result[0])\n",
    "    for module in pks.models.Module.objects.filter(product=result[1]):\n",
    "        print((module.subunit.cluster, module.subunit, moduleOrder(module)))"
   ]
  },
  {
   "cell_type": "code",
   "execution_count": 7,
   "metadata": {
    "collapsed": false,
    "deletable": true,
    "editable": true
   },
   "outputs": [
    {
     "data": {
      "text/plain": [
       "[('Simocyclinone', 244.287),\n",
       " ('Gulmirecin', 302.367),\n",
       " ('Methymycin / pikromycin', 386.485),\n",
       " ('Erythromycin', 402.528),\n",
       " ('Borrelidin', 446.537),\n",
       " ('Soraphen', 450.525),\n",
       " ('Tiacumicin B', 464.596),\n",
       " ('Thuggacin', 534.687),\n",
       " ('Spirangien', 756.968),\n",
       " ('Nystatin', 875.056)]"
      ]
     },
     "execution_count": 7,
     "metadata": {},
     "output_type": "execute_result"
    }
   ],
   "source": [
    "# find all cyclizing TEs and order by increasing MW of product\n",
    "cyclicTEs = pks.models.TE.objects.filter(cyclic=True)\n",
    "MWs = [(cyclicTE.module.subunit.cluster.description, cyclicTE.module.product.aMW()) for cyclicTE in cyclicTEs]\n",
    "sortedTEs = sorted(MWs, key=lambda MW: MW[1])\n",
    "sortedTEs"
   ]
  }
 ],
 "metadata": {
  "kernelspec": {
   "display_name": "Python 3",
   "language": "python",
   "name": "python3"
  },
  "language_info": {
   "codemirror_mode": {
    "name": "ipython",
    "version": 3
   },
   "file_extension": ".py",
   "mimetype": "text/x-python",
   "name": "python",
   "nbconvert_exporter": "python",
   "pygments_lexer": "ipython3",
   "version": "3.4.2"
  }
 },
 "nbformat": 4,
 "nbformat_minor": 2
}
