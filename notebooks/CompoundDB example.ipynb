{
 "cells": [
  {
   "cell_type": "code",
   "execution_count": 1,
   "metadata": {
    "collapsed": false,
    "deletable": true,
    "editable": true
   },
   "outputs": [],
   "source": [
    "import os, sys\n",
    "sys.path.insert(0, '/clusterCAD')\n",
    "os.environ.setdefault(\"DJANGO_SETTINGS_MODULE\", \"clusterCAD.settings\")\n",
    "import django\n",
    "django.setup()\n",
    "import pks.models\n",
    "import compounddb.models"
   ]
  },
  {
   "cell_type": "code",
   "execution_count": 2,
   "metadata": {
    "collapsed": false,
    "deletable": true,
    "editable": true
   },
   "outputs": [],
   "source": [
    "# save compounds in the database\n",
    "caf = compounddb.models.Compound(name=\"Caffeine\", smiles=\"O=C2N(c1ncn(c1C(=O)N2C)C)C\")\n",
    "# caf.computeInchi()\n",
    "caf.save()\n",
    "\n",
    "cw = compounddb.models.Compound(name=\"cw\", smiles=\"CCCC1=CC=C(C=C1)C(C)C(=O)O\")\n",
    "# cw.computeInchi()\n",
    "cw.save()"
   ]
  },
  {
   "cell_type": "code",
   "execution_count": 3,
   "metadata": {
    "collapsed": false,
    "deletable": true,
    "editable": true
   },
   "outputs": [
    {
     "data": {
      "text/plain": [
       "'RYYVLZVUVIJVGH-UHFFFAOYSA-N'"
      ]
     },
     "execution_count": 3,
     "metadata": {},
     "output_type": "execute_result"
    }
   ],
   "source": [
    "caf.inchiKey\n",
    "# caf.delete()"
   ]
  },
  {
   "cell_type": "code",
   "execution_count": 4,
   "metadata": {
    "collapsed": false,
    "deletable": true,
    "editable": true
   },
   "outputs": [
    {
     "data": {
      "text/plain": [
       "['cw']"
      ]
     },
     "execution_count": 4,
     "metadata": {},
     "output_type": "execute_result"
    }
   ],
   "source": [
    "# test substructure search\n",
    "compounds = compounddb.models.Compound.objects.raw('select \\\"inchiKey\\\" from compounddb_compound where m@>\\'CCCc1ccc(C(C)C(=O)O)cc1\\';')\n",
    "[x.name for x in compounds]"
   ]
  },
  {
   "cell_type": "code",
   "execution_count": 9,
   "metadata": {
    "collapsed": false,
    "deletable": true,
    "editable": true
   },
   "outputs": [
    {
     "data": {
      "text/plain": [
       "[(1.0, <rdkit.Chem.rdchem.Mol at 0x7f3fbcd4d458>),\n",
       " (0.192090395480226, <rdkit.Chem.rdchem.Mol at 0x7f3fbcd4d528>),\n",
       " (0.172222222222222, <rdkit.Chem.rdchem.Mol at 0x7f3fbcd4d5f8>),\n",
       " (0.166666666666667, <rdkit.Chem.rdchem.Mol at 0x7f3fbcd4d660>),\n",
       " (0.165745856353591, <rdkit.Chem.rdchem.Mol at 0x7f3fbcde2ba8>),\n",
       " (0.159340659340659, <rdkit.Chem.rdchem.Mol at 0x7f3fbcde2b40>),\n",
       " (0.149659863945578, <rdkit.Chem.rdchem.Mol at 0x7f3fbcde29a0>),\n",
       " (0.149606299212598, <rdkit.Chem.rdchem.Mol at 0x7f3fbcde2800>),\n",
       " (0.146464646464646, <rdkit.Chem.rdchem.Mol at 0x7f3fbcde2528>),\n",
       " (0.145985401459854, <rdkit.Chem.rdchem.Mol at 0x7f3fbcde2388>)]"
      ]
     },
     "execution_count": 9,
     "metadata": {},
     "output_type": "execute_result"
    }
   ],
   "source": [
    "results = compounddb.models.Compound.atomPairSearch('CCCC1=CC=C(C=C1)C(C)C(=O)O', maxHits=10, minSim=0)\n",
    "[(result[0], result[1].mol()) for result in results]"
   ]
  },
  {
   "cell_type": "code",
   "execution_count": 24,
   "metadata": {
    "collapsed": false
   },
   "outputs": [
    {
     "data": {
      "text/plain": [
       "[[],\n",
       " [(0.192090395480226,\n",
       "   <Cluster: Divergolide pks gene cluster>,\n",
       "   <Subunit: divL1 pks subunit>,\n",
       "   <Module: pks module 1012>),\n",
       "  (0.192090395480226,\n",
       "   <Cluster: Hygrocin pks gene cluster>,\n",
       "   <Subunit: hgcB pks subunit>,\n",
       "   <Module: pks module 280>)],\n",
       " [(0.172222222222222,\n",
       "   <Cluster: Naphthomycin pks gene cluster>,\n",
       "   <Subunit: natB pks subunit>,\n",
       "   <Module: pks module 459>),\n",
       "  (0.172222222222222,\n",
       "   <Cluster: Rifamycin pks gene cluster>,\n",
       "   <Subunit: rifB pks subunit>,\n",
       "   <Module: pks module 604>),\n",
       "  (0.172222222222222,\n",
       "   <Cluster: Chaxamycin A / chaxamycin B / chaxamycin C / chaxamycin D pks gene cluster>,\n",
       "   <Subunit: cxmB pks subunit>,\n",
       "   <Module: pks module 1040>)],\n",
       " [],\n",
       " [(0.165745856353591,\n",
       "   <Cluster: Methymycin / pikromycin pks gene cluster>,\n",
       "   <Subunit: pikAII pks subunit>,\n",
       "   <Module: pks module 391>)],\n",
       " [(0.159340659340659,\n",
       "   <Cluster: Lobophorin pks gene cluster>,\n",
       "   <Subunit: lobA3 pks subunit>,\n",
       "   <Module: pks module 871>)],\n",
       " [(0.149659863945578,\n",
       "   <Cluster: Chondrochloren pks gene cluster>,\n",
       "   <Subunit: cndC pks subunit>,\n",
       "   <Module: pks module 779>),\n",
       "  (0.149659863945578,\n",
       "   <Cluster: Chondramide pks gene cluster>,\n",
       "   <Subunit: cmdB pks subunit>,\n",
       "   <Module: pks module 776>)],\n",
       " [(0.149606299212598,\n",
       "   <Cluster: Microcystin pks gene cluster>,\n",
       "   <Subunit: mcyG pks subunit>,\n",
       "   <Module: pks module 912>)],\n",
       " [(0.146464646464646,\n",
       "   <Cluster: Erythromycin pks gene cluster>,\n",
       "   <Subunit: eryAII pks subunit>,\n",
       "   <Module: pks module 186>),\n",
       "  (0.146464646464646,\n",
       "   <Cluster: Erythromycin pks gene cluster>,\n",
       "   <Subunit: eryAII pks subunit>,\n",
       "   <Module: pks module 193>),\n",
       "  (0.146464646464646,\n",
       "   <Cluster: Megalomicin pks gene cluster>,\n",
       "   <Subunit: megAII pks subunit>,\n",
       "   <Module: pks module 368>)],\n",
       " [(0.145985401459854,\n",
       "   <Cluster: Rifamycin pks gene cluster>,\n",
       "   <Subunit: rifA pks subunit>,\n",
       "   <Module: pks module 603>),\n",
       "  (0.145985401459854,\n",
       "   <Cluster: Chaxamycin A / chaxamycin B / chaxamycin C / chaxamycin D pks gene cluster>,\n",
       "   <Subunit: cxmA pks subunit>,\n",
       "   <Module: pks module 1039>),\n",
       "  (0.145985401459854,\n",
       "   <Cluster: Naphthomycin pks gene cluster>,\n",
       "   <Subunit: natA pks subunit>,\n",
       "   <Module: pks module 458>)]]"
      ]
     },
     "execution_count": 24,
     "metadata": {},
     "output_type": "execute_result"
    }
   ],
   "source": [
    "# find which gene clusters, subunit, and module each top hit is from\n",
    "[[(result[0], module.subunit.cluster, module.subunit, module)\n",
    "  for module in pks.models.Module.objects.filter(product=result[1])]\n",
    "     for result in results]"
   ]
  }
 ],
 "metadata": {
  "kernelspec": {
   "display_name": "Python 3",
   "language": "python",
   "name": "python3"
  },
  "language_info": {
   "codemirror_mode": {
    "name": "ipython",
    "version": 3
   },
   "file_extension": ".py",
   "mimetype": "text/x-python",
   "name": "python",
   "nbconvert_exporter": "python",
   "pygments_lexer": "ipython3",
   "version": "3.4.2"
  }
 },
 "nbformat": 4,
 "nbformat_minor": 2
}
