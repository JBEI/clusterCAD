{
 "cells": [
  {
   "cell_type": "code",
   "execution_count": 1,
   "metadata": {
    "collapsed": true
   },
   "outputs": [],
   "source": [
    "import os, sys\n",
    "sys.path.insert(0, '/clusterCAD')\n",
    "os.environ.setdefault(\"DJANGO_SETTINGS_MODULE\", \"clusterCAD.settings\")\n",
    "import django\n",
    "django.setup()\n",
    "import pks.models\n",
    "import compounddb.models"
   ]
  },
  {
   "cell_type": "code",
   "execution_count": 2,
   "metadata": {
    "collapsed": true
   },
   "outputs": [],
   "source": [
    "from rdkit import Chem as chem\n",
    "from rdkit.Chem import AllChem, Draw, rdinchi\n",
    "import numpy as np\n",
    "from matplotlib import pyplot as plt\n",
    "%matplotlib inline"
   ]
  },
  {
   "cell_type": "code",
   "execution_count": 3,
   "metadata": {
    "collapsed": false
   },
   "outputs": [],
   "source": [
    "# save compounds in the database\n",
    "caf = compounddb.models.Compound(name=\"Caffeine\", smiles=\"O=C2N(c1ncn(c1C(=O)N2C)C)C\")\n",
    "caf.computeInchi()\n",
    "caf.save()\n",
    "\n",
    "cw = compounddb.models.Compound(name=\"cw\", smiles=\"CCCC1=CC=C(C=C1)C(C)C(=O)O\")\n",
    "cw.computeInchi()\n",
    "cw.save()"
   ]
  },
  {
   "cell_type": "code",
   "execution_count": 4,
   "metadata": {
    "collapsed": false
   },
   "outputs": [
    {
     "data": {
      "text/plain": [
       "'RYYVLZVUVIJVGH-UHFFFAOYSA-N'"
      ]
     },
     "execution_count": 4,
     "metadata": {},
     "output_type": "execute_result"
    }
   ],
   "source": [
    "caf.inchiKey\n",
    "# caf.delete()"
   ]
  },
  {
   "cell_type": "code",
   "execution_count": 5,
   "metadata": {
    "collapsed": false
   },
   "outputs": [],
   "source": [
    "# create RDKit index\n",
    "from django.db import connection\n",
    "\n",
    "with connection.cursor() as cursor:\n",
    "    cursor.execute(\"DROP TABLE IF EXISTS mols;\")\n",
    "    cursor.execute(\"select * into mols from (select \\\"inchiKey\\\", mol_from_smiles(smiles::cstring) m from compounddb_compound) tmp where m is not null;\")\n",
    "    cursor.execute(\"create index molidx on mols using gist(m);\")\n",
    "    cursor.execute(\"alter table mols add primary key (\\\"inchiKey\\\");\")"
   ]
  },
  {
   "cell_type": "code",
   "execution_count": 6,
   "metadata": {
    "collapsed": false
   },
   "outputs": [
    {
     "data": {
      "text/plain": [
       "['cw']"
      ]
     },
     "execution_count": 6,
     "metadata": {},
     "output_type": "execute_result"
    }
   ],
   "source": [
    "compounds = compounddb.models.Compound.objects.raw('select \\\"inchiKey\\\" from mols where m@>\\'CCCc1ccc(C(C)C(=O)O)cc1\\';')\n",
    "[x.name for x in compounds]"
   ]
  }
 ],
 "metadata": {
  "kernelspec": {
   "display_name": "Python 3",
   "language": "python",
   "name": "python3"
  },
  "language_info": {
   "codemirror_mode": {
    "name": "ipython",
    "version": 3
   },
   "file_extension": ".py",
   "mimetype": "text/x-python",
   "name": "python",
   "nbconvert_exporter": "python",
   "pygments_lexer": "ipython3",
   "version": "3.4.2"
  }
 },
 "nbformat": 4,
 "nbformat_minor": 2
}
