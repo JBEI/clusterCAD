{
 "cells": [
  {
   "cell_type": "code",
   "execution_count": 1,
   "metadata": {
    "collapsed": false,
    "deletable": true,
    "editable": true
   },
   "outputs": [],
   "source": [
    "import os, sys\n",
    "sys.path.insert(0, '/clusterCAD')\n",
    "os.environ.setdefault(\"DJANGO_SETTINGS_MODULE\", \"clusterCAD.settings\")\n",
    "import django\n",
    "django.setup()\n",
    "import pks.models\n",
    "import compounddb.models"
   ]
  },
  {
   "cell_type": "code",
   "execution_count": 2,
   "metadata": {
    "collapsed": false,
    "deletable": true,
    "editable": true
   },
   "outputs": [],
   "source": [
    "# save compounds in the database\n",
    "caf = compounddb.models.Compound(name=\"Caffeine\", smiles=\"O=C2N(c1ncn(c1C(=O)N2C)C)C\")\n",
    "# caf.computeInchi()\n",
    "caf.save()\n",
    "\n",
    "cw = compounddb.models.Compound(name=\"cw\", smiles=\"CCCC1=CC=C(C=C1)C(C)C(=O)O\")\n",
    "# cw.computeInchi()\n",
    "cw.save()"
   ]
  },
  {
   "cell_type": "code",
   "execution_count": 3,
   "metadata": {
    "collapsed": false,
    "deletable": true,
    "editable": true
   },
   "outputs": [
    {
     "data": {
      "text/plain": [
       "'RYYVLZVUVIJVGH-UHFFFAOYSA-N'"
      ]
     },
     "execution_count": 3,
     "metadata": {},
     "output_type": "execute_result"
    }
   ],
   "source": [
    "caf.inchiKey\n",
    "# caf.delete()"
   ]
  },
  {
   "cell_type": "code",
   "execution_count": 4,
   "metadata": {
    "collapsed": false,
    "deletable": true,
    "editable": true
   },
   "outputs": [
    {
     "data": {
      "text/plain": [
       "['cw']"
      ]
     },
     "execution_count": 4,
     "metadata": {},
     "output_type": "execute_result"
    }
   ],
   "source": [
    "# test substructure search\n",
    "compounds = compounddb.models.Compound.objects.raw('select \\\"inchiKey\\\" from compounddb_compound where m@>\\'CCCc1ccc(C(C)C(=O)O)cc1\\';')\n",
    "[x.name for x in compounds]"
   ]
  },
  {
   "cell_type": "code",
   "execution_count": 5,
   "metadata": {
    "collapsed": false,
    "deletable": true,
    "editable": true
   },
   "outputs": [
    {
     "data": {
      "text/plain": [
       "[(1.0, <rdkit.Chem.rdchem.Mol at 0x7f8101165868>),\n",
       " (0.683602771362587, <rdkit.Chem.rdchem.Mol at 0x7f81006dc048>),\n",
       " (0.59349593495935, <rdkit.Chem.rdchem.Mol at 0x7f81006dc0b0>),\n",
       " (0.551487414187643, <rdkit.Chem.rdchem.Mol at 0x7f81006dc118>),\n",
       " (0.538321167883212, <rdkit.Chem.rdchem.Mol at 0x7f81006dc180>),\n",
       " (0.534736842105263, <rdkit.Chem.rdchem.Mol at 0x7f81006dc1e8>),\n",
       " (0.518918918918919, <rdkit.Chem.rdchem.Mol at 0x7f81006dc250>),\n",
       " (0.51473136915078, <rdkit.Chem.rdchem.Mol at 0x7f81006dc2b8>),\n",
       " (0.508982035928144, <rdkit.Chem.rdchem.Mol at 0x7f81006dc320>),\n",
       " (0.491467576791809, <rdkit.Chem.rdchem.Mol at 0x7f81006dc388>)]"
      ]
     },
     "execution_count": 5,
     "metadata": {},
     "output_type": "execute_result"
    }
   ],
   "source": [
    "# query for top 10 hits to make a desired compound\n",
    "queryString = 'CCC1OC(=O)C(C)C(O)C(C)C(O)C(C)C(O)C(C)C(=O)C(C)C(O)C1C'\n",
    "results = compounddb.models.Compound.atomPairSearch(queryString, maxHits=10, minSim=0.2)\n",
    "[(result[0], result[1].mol()) for result in results]"
   ]
  },
  {
   "cell_type": "code",
   "execution_count": 6,
   "metadata": {
    "collapsed": false,
    "deletable": true,
    "editable": true
   },
   "outputs": [
    {
     "name": "stdout",
     "output_type": "stream",
     "text": [
      "1.0\n",
      "(<Cluster: Erythromycin pks gene cluster>, <Subunit: eryAIII pks subunit>, <Module: 2>)\n",
      "0.683602771362587\n",
      "(<Cluster: Methymycin / pikromycin pks gene cluster>, <Subunit: pikAIV pks subunit>, <Module: 1>)\n",
      "0.59349593495935\n",
      "(<Cluster: Megalomicin pks gene cluster>, <Subunit: megAIII pks subunit>, <Module: 2>)\n",
      "(<Cluster: Erythromycin pks gene cluster>, <Subunit: eryAIII pks subunit>, <Module: 2>)\n",
      "0.551487414187643\n",
      "(<Cluster: Erythromycin pks gene cluster>, <Subunit: eryAIII pks subunit>, <Module: 1>)\n",
      "(<Cluster: Erythromycin pks gene cluster>, <Subunit: eryAIII pks subunit>, <Module: 1>)\n",
      "(<Cluster: Megalomicin pks gene cluster>, <Subunit: megAIII pks subunit>, <Module: 1>)\n",
      "0.538321167883212\n",
      "(<Cluster: Lankamycin pks gene cluster>, <Subunit: lkmAIII pks subunit>, <Module: 2>)\n",
      "0.534736842105263\n",
      "(<Cluster: Lankamycin pks gene cluster>, <Subunit: lkmAIII pks subunit>, <Module: 1>)\n",
      "0.518918918918919\n",
      "(<Cluster: Soraphen pks gene cluster>, <Subunit: sorB pks subunit>, <Module: 5>)\n",
      "0.51473136915078\n",
      "(<Cluster: Rifamycin pks gene cluster>, <Subunit: rifD pks subunit>, <Module: 1>)\n",
      "0.508982035928144\n",
      "(<Cluster: Chaxamycin A / chaxamycin B / chaxamycin C / chaxamycin D pks gene cluster>, <Subunit: cxmD pks subunit>, <Module: 1>)\n",
      "(<Cluster: Rifamycin pks gene cluster>, <Subunit: rifC pks subunit>, <Module: 1>)\n",
      "0.491467576791809\n",
      "(<Cluster: Tiacumicin B pks gene cluster>, <Subunit: tiaA4 pks subunit>, <Module: 2>)\n"
     ]
    }
   ],
   "source": [
    "# find which gene clusters, subunit, and module each top hit is from\n",
    "[[(module.subunit.cluster, module.subunit, module)\n",
    "  for module in pks.models.Module.objects.filter(product=result[1])]\n",
    "     for result in results]\n",
    "\n",
    "for result in results:\n",
    "    print(result[0])\n",
    "    for module in pks.models.Module.objects.filter(product=result[1]):\n",
    "        print((module.subunit.cluster, module.subunit, module))"
   ]
  }
 ],
 "metadata": {
  "kernelspec": {
   "display_name": "Python 3",
   "language": "python",
   "name": "python3"
  },
  "language_info": {
   "codemirror_mode": {
    "name": "ipython",
    "version": 3
   },
   "file_extension": ".py",
   "mimetype": "text/x-python",
   "name": "python",
   "nbconvert_exporter": "python",
   "pygments_lexer": "ipython3",
   "version": "3.4.2"
  }
 },
 "nbformat": 4,
 "nbformat_minor": 2
}
