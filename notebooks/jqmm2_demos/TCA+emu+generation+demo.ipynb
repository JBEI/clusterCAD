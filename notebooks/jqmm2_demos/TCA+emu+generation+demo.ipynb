{
 "cells": [
  {
   "cell_type": "markdown",
   "metadata": {
    "deletable": true,
    "editable": true
   },
   "source": [
    "# Demo of EMU generation for TCA cycle example"
   ]
  },
  {
   "cell_type": "markdown",
   "metadata": {
    "deletable": true,
    "editable": true
   },
   "source": [
    "# Intro"
   ]
  },
  {
   "cell_type": "markdown",
   "metadata": {
    "deletable": true,
    "editable": true
   },
   "source": [
    "# Setup"
   ]
  },
  {
   "cell_type": "markdown",
   "metadata": {
    "deletable": true,
    "editable": true
   },
   "source": [
    "First, we need to set the path and environment variable properly:"
   ]
  },
  {
   "cell_type": "code",
   "execution_count": 1,
   "metadata": {
    "collapsed": true,
    "deletable": true,
    "editable": true
   },
   "outputs": [],
   "source": [
    "quantmodelDir = '/users/hgmartin/libraries/quantmodel'"
   ]
  },
  {
   "cell_type": "markdown",
   "metadata": {
    "deletable": true,
    "editable": true
   },
   "source": [
    "This is the only place where the jQMM library path needs to be set."
   ]
  },
  {
   "cell_type": "code",
   "execution_count": 2,
   "metadata": {
    "collapsed": true,
    "deletable": true,
    "editable": true
   },
   "outputs": [],
   "source": [
    "%matplotlib inline\n",
    "\n",
    "import sys, os\n",
    "pythonPath = quantmodelDir+\"/code/core\"\n",
    "if pythonPath not in sys.path:\n",
    "    sys.path.append(pythonPath)\n",
    "os.environ[\"QUANTMODELPATH\"] = quantmodelDir"
   ]
  },
  {
   "cell_type": "code",
   "execution_count": 3,
   "metadata": {
    "collapsed": true,
    "deletable": true,
    "editable": true
   },
   "outputs": [],
   "source": [
    "%matplotlib inline\n",
    "import os, core, FluxModels, unittest, enhancedLists\n",
    "from IPython.display import SVG, Image"
   ]
  },
  {
   "cell_type": "markdown",
   "metadata": {
    "deletable": true,
    "editable": true
   },
   "source": [
    "And move to a scratch directory (to make things faster):"
   ]
  },
  {
   "cell_type": "code",
   "execution_count": 4,
   "metadata": {
    "collapsed": false,
    "deletable": true,
    "editable": true
   },
   "outputs": [
    {
     "name": "stdout",
     "output_type": "stream",
     "text": [
      "/scratch/hgmartin_scratch/tests\n"
     ]
    }
   ],
   "source": [
    "cd /scratch/hgmartin_scratch/tests"
   ]
  },
  {
   "cell_type": "markdown",
   "metadata": {
    "deletable": true,
    "editable": true
   },
   "source": [
    "# Assembling SBML file"
   ]
  },
  {
   "cell_type": "markdown",
   "metadata": {
    "deletable": true,
    "editable": true
   },
   "source": [
    "Get file names needed to produce sbml file:"
   ]
  },
  {
   "cell_type": "code",
   "execution_count": 5,
   "metadata": {
    "collapsed": true,
    "deletable": true,
    "editable": true
   },
   "outputs": [],
   "source": [
    "qmodeldir         = os.environ['QUANTMODELPATH']    \n",
    "dirDATA           = qmodeldir+'/data/tests/TCAtoy/' \n",
    "\n",
    "\n",
    "REACTIONSfilename   = dirDATA+'REACTIONStca.txt' \n",
    "FEEDfilename        = dirDATA+'FEEDtca.txt'\n",
    "CEMSfilename        = dirDATA+'GCMStca.txt'\n",
    "CEMSSTDfilename     = dirDATA+'GCMSerrtca.txt'\n",
    "FLUXESFreefilename  = dirDATA+'FLUXtca.txt'"
   ]
  },
  {
   "cell_type": "markdown",
   "metadata": {
    "deletable": true,
    "editable": true
   },
   "source": [
    "Assemble sbml file:"
   ]
  },
  {
   "cell_type": "code",
   "execution_count": 6,
   "metadata": {
    "collapsed": false,
    "deletable": true,
    "editable": true
   },
   "outputs": [
    {
     "data": {
      "text/plain": [
       "1"
      ]
     },
     "execution_count": 6,
     "metadata": {},
     "output_type": "execute_result"
    }
   ],
   "source": [
    "atomTransitions = enhancedLists.AtomTransitionList(REACTIONSfilename)\n",
    "ReacNet = atomTransitions.getReactionNetwork('E. coli wt5h 13C MFA')\n",
    "\n",
    "ReacNet.addLabeling(CEMSfilename,'LCMSLabelData',CEMSSTDfilename,minSTD=0.001)\n",
    "ReacNet.addFeed(FEEDfilename)\n",
    "ReacNet.loadFluxBounds(FLUXESFreefilename)\n",
    "\n",
    "ReacNet.write('TCA.sbml')  "
   ]
  },
  {
   "cell_type": "markdown",
   "metadata": {
    "deletable": true,
    "editable": true
   },
   "source": [
    "# Obtaining EMU transitions"
   ]
  },
  {
   "cell_type": "markdown",
   "metadata": {
    "deletable": true,
    "editable": true
   },
   "source": [
    "Load model:"
   ]
  },
  {
   "cell_type": "code",
   "execution_count": 7,
   "metadata": {
    "collapsed": true,
    "deletable": true,
    "editable": true
   },
   "outputs": [],
   "source": [
    "C13model = FluxModels.C13Model('TCA.sbml') "
   ]
  },
  {
   "cell_type": "markdown",
   "metadata": {
    "deletable": true,
    "editable": true
   },
   "source": [
    "Get reaction list, EMU transitions and carbon transitions for later use:"
   ]
  },
  {
   "cell_type": "code",
   "execution_count": 8,
   "metadata": {
    "collapsed": true,
    "deletable": true,
    "editable": true
   },
   "outputs": [],
   "source": [
    "rxnList           = C13model.reactionNetwork.reactionList\n",
    "EMUTransitions    = rxnList.transitions\n",
    "carbonTransitions = enhancedLists.AtomTransitionList([core.AtomTransition(line) for line in rxnList.rawEMUReactions])"
   ]
  },
  {
   "cell_type": "code",
   "execution_count": 9,
   "metadata": {
    "collapsed": false,
    "deletable": true,
    "editable": true
   },
   "outputs": [
    {
     "name": "stdout",
     "output_type": "stream",
     "text": [
      "co2Out\tco2_c --> co2ext_c\ta : a\n",
      "r1\toac_c + accoa_c --> cit_c\tabcd + ef : dcbfea\n",
      "r2\tcit_c --> akg_c + co2_c\tabcdef : abcde + f\n",
      "r3\takg_c --> glu_L_c\tabcde : abcde\n",
      "r4\takg_c --> suc_c + co2_c\tabcde : (bcde;edcb) + a\n",
      "r5\tsuc_c --> fum_c\tabcd : (abcd;dcba)\n",
      "r6\tfum_c --> oac_c\tabcd : (abcd;dcba)\n",
      "r7\toac_c --> fum_c\tabcd : (abcd;dcba)\n",
      "r8\tasp_c --> oac_c\tabcd : abcd\n"
     ]
    }
   ],
   "source": [
    "for trans in carbonTransitions.transitions:\n",
    "    print trans"
   ]
  },
  {
   "cell_type": "markdown",
   "metadata": {
    "deletable": true,
    "editable": true
   },
   "source": [
    "Get the list of metabolites from reactionList:"
   ]
  },
  {
   "cell_type": "code",
   "execution_count": 10,
   "metadata": {
    "collapsed": true,
    "deletable": true,
    "editable": true
   },
   "outputs": [],
   "source": [
    "metList = rxnList.getMetList()"
   ]
  },
  {
   "cell_type": "markdown",
   "metadata": {
    "deletable": true,
    "editable": true
   },
   "source": [
    "and obtain the destination EMUs from there:"
   ]
  },
  {
   "cell_type": "code",
   "execution_count": 11,
   "metadata": {
    "collapsed": false,
    "deletable": true,
    "editable": true
   },
   "outputs": [
    {
     "name": "stdout",
     "output_type": "stream",
     "text": [
      "['glu_L_c_1_2_3_4_5']\n"
     ]
    }
   ],
   "source": [
    "destEMUs = metList.getDestinationEMUs()\n",
    "print destEMUs"
   ]
  },
  {
   "cell_type": "markdown",
   "metadata": {
    "deletable": true,
    "editable": true
   },
   "source": [
    "as well as the source metabolites:"
   ]
  },
  {
   "cell_type": "code",
   "execution_count": 12,
   "metadata": {
    "collapsed": false,
    "deletable": true,
    "editable": true
   },
   "outputs": [
    {
     "name": "stdout",
     "output_type": "stream",
     "text": [
      "['accoa_c', 'asp_c']\n"
     ]
    }
   ],
   "source": [
    "sources = rxnList.EMUSourceMetabs\n",
    "print sources"
   ]
  },
  {
   "cell_type": "markdown",
   "metadata": {
    "deletable": true,
    "editable": true
   },
   "source": [
    "With the destination emus and the metabolite sources, we can obtain all EMU transitions from sources to destination (first number is the amount of flux going through that emu transition, 0.5 for symmetric molecules): "
   ]
  },
  {
   "cell_type": "code",
   "execution_count": 13,
   "metadata": {
    "collapsed": false,
    "deletable": true,
    "editable": true
   },
   "outputs": [
    {
     "data": {
      "text/plain": [
       "[(1.0, 'r3, akg_c_1_2_3_4_5 --> glu_L_c_1_2_3_4_5'),\n",
       " (1.0, 'r2, cit_c_1_2_3_4_5 --> akg_c_1_2_3_4_5'),\n",
       " (1.0, 'r1, accoa_c_1_2 + oac_c_2_3_4 --> cit_c_1_2_3_4_5'),\n",
       " (0.5, 'r6, fum_c_1_2_3 --> oac_c_2_3_4'),\n",
       " (0.5, 'r6, fum_c_2_3_4 --> oac_c_2_3_4'),\n",
       " (0.5, 'r5, suc_c_2_3_4 --> fum_c_2_3_4'),\n",
       " (0.5, 'r5, suc_c_1_2_3 --> fum_c_2_3_4'),\n",
       " (0.5, 'r4, akg_c_2_3_4 --> suc_c_2_3_4'),\n",
       " (0.5, 'r4, akg_c_3_4_5 --> suc_c_2_3_4'),\n",
       " (1.0, 'r2, cit_c_3_4_5 --> akg_c_3_4_5'),\n",
       " (1.0, 'r1, accoa_c_1_2 + oac_c_2 --> cit_c_3_4_5'),\n",
       " (0.5, 'r6, fum_c_2 --> oac_c_2'),\n",
       " (0.5, 'r6, fum_c_3 --> oac_c_2'),\n",
       " (0.5, 'r5, suc_c_3 --> fum_c_2'),\n",
       " (0.5, 'r5, suc_c_2 --> fum_c_2'),\n",
       " (0.5, 'r4, akg_c_3 --> suc_c_2'),\n",
       " (0.5, 'r4, akg_c_4 --> suc_c_2'),\n",
       " (1.0, 'r2, cit_c_3 --> akg_c_3'),\n",
       " (1.0, 'r1, oac_c_2 --> cit_c_3'),\n",
       " (1.0, 'r8, asp_c_2 --> oac_c_2'),\n",
       " (1.0, 'r2, cit_c_4 --> akg_c_4'),\n",
       " (1.0, 'r1, accoa_c_2 --> cit_c_4'),\n",
       " (0.5, 'r4, akg_c_3 --> suc_c_3'),\n",
       " (0.5, 'r4, akg_c_4 --> suc_c_3'),\n",
       " (0.5, 'r7, oac_c_3 --> fum_c_2'),\n",
       " (0.5, 'r7, oac_c_2 --> fum_c_2'),\n",
       " (0.5, 'r6, fum_c_3 --> oac_c_3'),\n",
       " (0.5, 'r6, fum_c_2 --> oac_c_3'),\n",
       " (0.5, 'r5, suc_c_2 --> fum_c_3'),\n",
       " (0.5, 'r5, suc_c_3 --> fum_c_3'),\n",
       " (0.5, 'r7, oac_c_2 --> fum_c_3'),\n",
       " (0.5, 'r7, oac_c_3 --> fum_c_3'),\n",
       " (1.0, 'r8, asp_c_3 --> oac_c_3'),\n",
       " (1.0, 'r2, cit_c_2_3_4 --> akg_c_2_3_4'),\n",
       " (1.0, 'r1, accoa_c_2 + oac_c_2_3 --> cit_c_2_3_4'),\n",
       " (1.0, 'r6, fum_c_2_3 --> oac_c_2_3'),\n",
       " (1.0, 'r5, suc_c_2_3 --> fum_c_2_3'),\n",
       " (1.0, 'r4, akg_c_3_4 --> suc_c_2_3'),\n",
       " (1.0, 'r2, cit_c_3_4 --> akg_c_3_4'),\n",
       " (1.0, 'r1, accoa_c_2 + oac_c_2 --> cit_c_3_4'),\n",
       " (1.0, 'r2, cit_c_3_4 --> akg_c_3_4'),\n",
       " (1.0, 'r1, accoa_c_2 + oac_c_2 --> cit_c_3_4'),\n",
       " (1.0, 'r4, akg_c_3_4 --> suc_c_2_3'),\n",
       " (1.0, 'r7, oac_c_2_3 --> fum_c_2_3'),\n",
       " (1.0, 'r8, asp_c_2_3 --> oac_c_2_3'),\n",
       " (1.0, 'r6, fum_c_2_3 --> oac_c_2_3'),\n",
       " (1.0, 'r5, suc_c_2_3 --> fum_c_2_3'),\n",
       " (1.0, 'r7, oac_c_2_3 --> fum_c_2_3'),\n",
       " (1.0, 'r8, asp_c_2_3 --> oac_c_2_3'),\n",
       " (0.5, 'r4, akg_c_2_3_4 --> suc_c_1_2_3'),\n",
       " (0.5, 'r4, akg_c_3_4_5 --> suc_c_1_2_3'),\n",
       " (0.5, 'r7, oac_c_1_2_3 --> fum_c_2_3_4'),\n",
       " (0.5, 'r7, oac_c_2_3_4 --> fum_c_2_3_4'),\n",
       " (1.0, 'r8, asp_c_2_3_4 --> oac_c_2_3_4'),\n",
       " (0.5, 'r6, fum_c_2_3_4 --> oac_c_1_2_3'),\n",
       " (0.5, 'r6, fum_c_1_2_3 --> oac_c_1_2_3'),\n",
       " (0.5, 'r5, suc_c_1_2_3 --> fum_c_1_2_3'),\n",
       " (0.5, 'r5, suc_c_2_3_4 --> fum_c_1_2_3'),\n",
       " (0.5, 'r7, oac_c_2_3_4 --> fum_c_1_2_3'),\n",
       " (0.5, 'r7, oac_c_1_2_3 --> fum_c_1_2_3'),\n",
       " (1.0, 'r8, asp_c_1_2_3 --> oac_c_1_2_3')]"
      ]
     },
     "execution_count": 13,
     "metadata": {},
     "output_type": "execute_result"
    }
   ],
   "source": [
    "carbonTransitions.findEMUTransitions2Source(core.EMU(destEMUs[0]),sources,cleanCache=True)"
   ]
  },
  {
   "cell_type": "markdown",
   "metadata": {
    "deletable": true,
    "editable": true
   },
   "source": [
    "# EMU equations"
   ]
  },
  {
   "cell_type": "markdown",
   "metadata": {
    "deletable": true,
    "editable": true
   },
   "source": [
    "The EMU equations are divide in two parts: non-condensation equations and condensation equations."
   ]
  },
  {
   "cell_type": "markdown",
   "metadata": {
    "deletable": true,
    "editable": true
   },
   "source": [
    "The non-condensation equations are coded in the EMM matrix:"
   ]
  },
  {
   "cell_type": "code",
   "execution_count": 14,
   "metadata": {
    "collapsed": true,
    "deletable": true,
    "editable": true
   },
   "outputs": [],
   "source": [
    "emmPar  = EMUTransitions.getEMMmat()"
   ]
  },
  {
   "cell_type": "code",
   "execution_count": 15,
   "metadata": {
    "collapsed": false,
    "deletable": true,
    "editable": true,
    "scrolled": true
   },
   "outputs": [
    {
     "name": "stdout",
     "output_type": "stream",
     "text": [
      "{('r5', 'suc_c_1_2_3', 'fum_c_1_2_3'): 0.5, ('r2', 'akg_c_3', 'cit_c_3'): -1.0, ('r8', 'oac_c_3', 'asp_c_3'): -1.0, ('r8', 'asp_c_1_2_3', 'oac_c_1_2_3'): 1.0, ('r5', 'fum_c_3', 'suc_c_2'): -0.5, ('r7', 'oac_c_1_2_3', 'fum_c_1_2_3'): 0.5, ('r1', 'accoa_c_1_2oac_c_2_3_4', 'cit_c_1_2_3_4_5'): 1.0, ('r8', 'asp_c_2_3_4', 'oac_c_2_3_4'): 1.0, ('r4', 'suc_c_2', 'akg_c_4'): -0.5, ('r3', 'akg_c_1_2_3_4_5', 'glu_L_c_1_2_3_4_5'): 1.0, ('r6', 'oac_c_2_3', 'fum_c_2_3'): -1.0, ('r5', 'suc_c_1_2_3', 'fum_c_2_3_4'): 0.5, ('r1', 'accoa_c_2oac_c_2_3', 'cit_c_2_3_4'): 1.0, ('r6', 'fum_c_2_3', 'oac_c_2_3'): 1.0, ('r8', 'oac_c_2_3', 'asp_c_2_3'): -1.0, ('r5', 'suc_c_2_3', 'fum_c_2_3'): 1.0, ('r4', 'suc_c_1_2_3', 'akg_c_3_4_5'): -0.5, ('r5', 'suc_c_3', 'fum_c_3'): 0.5, ('r7', 'fum_c_2', 'oac_c_3'): -0.5, ('r4', 'suc_c_3', 'akg_c_4'): -0.5, ('r4', 'akg_c_3_4_5', 'suc_c_1_2_3'): 0.5, ('r8', 'oac_c_1_2_3', 'asp_c_1_2_3'): -1.0, ('r4', 'akg_c_3_4', 'suc_c_2_3'): 1.0, ('r1', 'cit_c_3_4_5', 'accoa_c_1_2oac_c_2'): -1.0, ('r7', 'fum_c_2_3_4', 'oac_c_1_2_3'): -0.5, ('r6', 'oac_c_2', 'fum_c_3'): -0.5, ('r7', 'fum_c_3', 'oac_c_3'): -0.5, ('r1', 'cit_c_2_3_4', 'accoa_c_2oac_c_2_3'): -1.0, ('r6', 'fum_c_1_2_3', 'oac_c_1_2_3'): 0.5, ('r7', 'fum_c_2', 'oac_c_2'): -0.5, ('r4', 'akg_c_3', 'suc_c_2'): 0.5, ('r7', 'oac_c_2_3', 'fum_c_2_3'): 1.0, ('r6', 'oac_c_1_2_3', 'fum_c_1_2_3'): -0.5, ('r5', 'suc_c_2_3_4', 'fum_c_2_3_4'): 0.5, ('r7', 'oac_c_2', 'fum_c_3'): 0.5, ('r2', 'akg_c_1_2_3_4_5', 'cit_c_1_2_3_4_5'): -1.0, ('r1', 'cit_c_1_2_3_4_5', 'accoa_c_1_2oac_c_2_3_4'): -1.0, ('r7', 'oac_c_2_3_4', 'fum_c_1_2_3'): 0.5, ('r2', 'akg_c_3_4_5', 'cit_c_3_4_5'): -1.0, ('r5', 'fum_c_1_2_3', 'suc_c_1_2_3'): -0.5, ('r5', 'suc_c_2', 'fum_c_3'): 0.5, ('r2', 'akg_c_4', 'cit_c_4'): -1.0, ('r5', 'fum_c_2_3_4', 'suc_c_2_3_4'): -0.5, ('r2', 'akg_c_2_3_4', 'cit_c_2_3_4'): -1.0, ('r4', 'akg_c_2_3_4', 'suc_c_1_2_3'): 0.5, ('r5', 'fum_c_2', 'suc_c_2'): -0.5, ('r6', 'oac_c_3', 'fum_c_3'): -0.5, ('r8', 'asp_c_3', 'oac_c_3'): 1.0, ('r5', 'fum_c_1_2_3', 'suc_c_2_3_4'): -0.5, ('r6', 'fum_c_3', 'oac_c_3'): 0.5, ('r2', 'cit_c_3_4_5', 'akg_c_3_4_5'): 1.0, ('r4', 'suc_c_2_3_4', 'akg_c_2_3_4'): -0.5, ('r4', 'suc_c_2', 'akg_c_3'): -0.5, ('r1', 'oac_c_2', 'cit_c_3'): 1.0, ('r6', 'oac_c_2_3_4', 'fum_c_1_2_3'): -0.5, ('r2', 'cit_c_4', 'akg_c_4'): 1.0, ('r6', 'fum_c_2_3_4', 'oac_c_1_2_3'): 0.5, ('r8', 'oac_c_2_3_4', 'asp_c_2_3_4'): -1.0, ('r8', 'asp_c_2_3', 'oac_c_2_3'): 1.0, ('r5', 'fum_c_3', 'suc_c_3'): -0.5, ('r5', 'fum_c_2_3', 'suc_c_2_3'): -1.0, ('r1', 'accoa_c_2', 'cit_c_4'): 1.0, ('r7', 'fum_c_2_3', 'oac_c_2_3'): -1.0, ('r7', 'oac_c_2_3_4', 'fum_c_2_3_4'): 0.5, ('r4', 'akg_c_4', 'suc_c_3'): 0.5, ('r2', 'akg_c_3_4', 'cit_c_3_4'): -1.0, ('r4', 'akg_c_4', 'suc_c_2'): 0.5, ('r6', 'oac_c_2_3_4', 'fum_c_2_3_4'): -0.5, ('r1', 'cit_c_3', 'oac_c_2'): -1.0, ('r7', 'fum_c_1_2_3', 'oac_c_1_2_3'): -0.5, ('r5', 'suc_c_3', 'fum_c_2'): 0.5, ('r4', 'suc_c_1_2_3', 'akg_c_2_3_4'): -0.5, ('r6', 'fum_c_1_2_3', 'oac_c_2_3_4'): 0.5, ('r7', 'oac_c_3', 'fum_c_2'): 0.5, ('r4', 'akg_c_3', 'suc_c_3'): 0.5, ('r8', 'oac_c_2', 'asp_c_2'): -1.0, ('r6', 'fum_c_2', 'oac_c_2'): 0.5, ('r2', 'cit_c_2_3_4', 'akg_c_2_3_4'): 1.0, ('r6', 'oac_c_2', 'fum_c_2'): -0.5, ('r4', 'suc_c_3', 'akg_c_3'): -0.5, ('r1', 'accoa_c_1_2oac_c_2', 'cit_c_3_4_5'): 1.0, ('r7', 'fum_c_3', 'oac_c_2'): -0.5, ('r8', 'asp_c_2', 'oac_c_2'): 1.0, ('r4', 'akg_c_3_4_5', 'suc_c_2_3_4'): 0.5, ('r2', 'cit_c_1_2_3_4_5', 'akg_c_1_2_3_4_5'): 1.0, ('r1', 'cit_c_4', 'accoa_c_2'): -1.0, ('r5', 'suc_c_2_3_4', 'fum_c_1_2_3'): 0.5, ('r6', 'fum_c_2', 'oac_c_3'): 0.5, ('r6', 'oac_c_1_2_3', 'fum_c_2_3_4'): -0.5, ('r7', 'oac_c_1_2_3', 'fum_c_2_3_4'): 0.5, ('r2', 'cit_c_3_4', 'akg_c_3_4'): 1.0, ('r7', 'oac_c_2', 'fum_c_2'): 0.5, ('r7', 'oac_c_3', 'fum_c_3'): 0.5, ('r6', 'fum_c_2_3_4', 'oac_c_2_3_4'): 0.5, ('r1', 'cit_c_3_4', 'accoa_c_2oac_c_2'): -1.0, ('r5', 'suc_c_2', 'fum_c_2'): 0.5, ('r7', 'fum_c_2_3_4', 'oac_c_2_3_4'): -0.5, ('r5', 'fum_c_2', 'suc_c_3'): -0.5, ('r4', 'suc_c_2_3_4', 'akg_c_3_4_5'): -0.5, ('r2', 'cit_c_3', 'akg_c_3'): 1.0, ('r5', 'fum_c_2_3_4', 'suc_c_1_2_3'): -0.5, ('r6', 'oac_c_3', 'fum_c_2'): -0.5, ('r7', 'fum_c_1_2_3', 'oac_c_2_3_4'): -0.5, ('r4', 'suc_c_2_3', 'akg_c_3_4'): -1.0, ('r3', 'glu_L_c_1_2_3_4_5', 'akg_c_1_2_3_4_5'): -1.0, ('r4', 'akg_c_2_3_4', 'suc_c_2_3_4'): 0.5, ('r1', 'accoa_c_2oac_c_2', 'cit_c_3_4'): 1.0, ('r6', 'fum_c_3', 'oac_c_2'): 0.5}\n"
     ]
    }
   ],
   "source": [
    "print emmPar.elements"
   ]
  },
  {
   "cell_type": "markdown",
   "metadata": {
    "deletable": true,
    "editable": true
   },
   "source": [
    "The condensation equations are coded in GAMS lines:"
   ]
  },
  {
   "cell_type": "code",
   "execution_count": 16,
   "metadata": {
    "collapsed": true,
    "deletable": true,
    "editable": true
   },
   "outputs": [],
   "source": [
    "eqns,eqnNames = EMUTransitions.getCondGAMSReacs()"
   ]
  },
  {
   "cell_type": "code",
   "execution_count": 17,
   "metadata": {
    "collapsed": false,
    "deletable": true,
    "editable": true
   },
   "outputs": [
    {
     "name": "stdout",
     "output_type": "stream",
     "text": [
      "eqn_condensation_rxn_1at0..f('accoa_c_1_2oac_c_2','0') =e= f('accoa_c_1_2','0')*f('oac_c_2','0');\n",
      "\n"
     ]
    }
   ],
   "source": [
    "print eqns[0]"
   ]
  }
 ],
 "metadata": {
  "kernelspec": {
   "display_name": "Python 3",
   "language": "python",
   "name": "python3"
  },
  "language_info": {
   "codemirror_mode": {
    "name": "ipython",
    "version": 3
   },
   "file_extension": ".py",
   "mimetype": "text/x-python",
   "name": "python",
   "nbconvert_exporter": "python",
   "pygments_lexer": "ipython3",
   "version": "3.4.2"
  }
 },
 "nbformat": 4,
 "nbformat_minor": 1
}
