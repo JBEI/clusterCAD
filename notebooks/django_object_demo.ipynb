{
 "cells": [
  {
   "cell_type": "markdown",
   "metadata": {
    "deletable": true,
    "editable": true
   },
   "source": [
    "# Setup Django environment"
   ]
  },
  {
   "cell_type": "code",
   "execution_count": 1,
   "metadata": {
    "collapsed": false,
    "deletable": true,
    "editable": true
   },
   "outputs": [],
   "source": [
    "import os, sys\n",
    "sys.path.insert(0, '/retrosyn')\n",
    "os.environ.setdefault(\"DJANGO_SETTINGS_MODULE\", \"retrosyn.settings\")\n",
    "import django\n",
    "django.setup()"
   ]
  },
  {
   "cell_type": "code",
   "execution_count": 2,
   "metadata": {
    "collapsed": false,
    "deletable": true,
    "editable": true
   },
   "outputs": [],
   "source": [
    "import pks.models"
   ]
  },
  {
   "cell_type": "markdown",
   "metadata": {
    "deletable": true,
    "editable": true
   },
   "source": [
    "# Create a gene cluster"
   ]
  },
  {
   "cell_type": "code",
   "execution_count": 3,
   "metadata": {
    "collapsed": false,
    "deletable": true,
    "editable": true
   },
   "outputs": [],
   "source": [
    "# create a gene cluster\n",
    "myCluster = pks.models.Cluster(genbankAccession = \"myGBa\", \\\n",
    "                               mibigAccession=\"myMBa\", description=\"test cluster\", sequence=\"ACTG\")\n",
    "myCluster.save()\n",
    "\n",
    "# create and save subunits\n",
    "# note: ordering is automatically determined by the order\n",
    "# in which they are saved\n",
    "subunit1 = pks.models.Subunit(cluster=myCluster, genbankAccession=\"\", name=\"s1\", start=1, stop=3, sequence=\"AAC\")\n",
    "subunit1.save()\n",
    "subunit2 = pks.models.Subunit(cluster=myCluster, genbankAccession=\"\", name=\"s2\", start=4, stop=4, sequence=\"AAC\")\n",
    "subunit2.save()\n",
    "\n",
    "# create and save modules\n",
    "# note: ordering is automatically determined by the order\n",
    "# in which they are saved\n",
    "myModule1 = pks.models.Module(subunit=subunit1, loading=True, terminal=False)\n",
    "myModule1.save()\n",
    "myModule2 = pks.models.Module(subunit=subunit1, loading=False, terminal=True)\n",
    "myModule2.save()\n",
    "myModule3 = pks.models.Module(subunit=subunit2, loading=False, terminal=True)\n",
    "myModule3.save()\n",
    "\n",
    "# create and save domains\n",
    "myATL = pks.models.AT(module=myModule1, start=1, stop=20, extender='mmal')\n",
    "myATL.save()\n",
    "myER = pks.models.ER(module=myModule1, start=21, stop=22, active=True)\n",
    "myER.save()\n",
    "myKR = pks.models.ER(module=myModule2, start=21, stop=22, active=True)\n",
    "myKR.save()\n",
    "myTE = pks.models.TE(module=myModule3, start=1, stop=2, cyclic=False)\n",
    "myTE.save()"
   ]
  },
  {
   "cell_type": "markdown",
   "metadata": {
    "deletable": true,
    "editable": true
   },
   "source": [
    "# Query previously inserted gene cluster"
   ]
  },
  {
   "cell_type": "code",
   "execution_count": 4,
   "metadata": {
    "collapsed": false,
    "deletable": true,
    "editable": true
   },
   "outputs": [
    {
     "name": "stdout",
     "output_type": "stream",
     "text": [
      "[[<Subunit: s1 pks subunit>, [[<Module: pks module 43>, <QuerySet [<AT: extender mmal>, <ER: active True>]>], [<Module: pks module 44>, <QuerySet [<ER: active True>]>]]], [<Subunit: s2 pks subunit>, [[<Module: pks module 45>, <QuerySet [<TE: cyclic False>]>]]]]\n",
      "<QuerySet [<Subunit: s1 pks subunit>, <Subunit: s2 pks subunit>]>\n",
      "<QuerySet [<Module: pks module 43>, <Module: pks module 44>]>\n",
      "<QuerySet [<AT: extender mmal>, <ER: active True>]>\n",
      "1\n",
      "20\n",
      "mmal\n"
     ]
    }
   ],
   "source": [
    "# get cluster from database\n",
    "myCluster = pks.models.Cluster.objects.filter(genbankAccession = \"myGBa\")[0]\n",
    "print(myCluster.architecture()) # show full structure of cluster\n",
    "print(myCluster.subunits())\n",
    "mySubunit = myCluster.subunits()[0]\n",
    "print(mySubunit.modules())\n",
    "myModule1 = mySubunit.modules()[0]\n",
    "print(myModule1.domains())\n",
    "myDomain = myModule1.domains()[0]\n",
    "\n",
    "# query domain properties\n",
    "print(myDomain.start)\n",
    "print(myDomain.stop)\n",
    "print(myDomain.extender)"
   ]
  }
 ],
 "metadata": {
  "kernelspec": {
   "display_name": "Python 3",
   "language": "python",
   "name": "python3"
  },
  "language_info": {
   "codemirror_mode": {
    "name": "ipython",
    "version": 3
   },
   "file_extension": ".py",
   "mimetype": "text/x-python",
   "name": "python",
   "nbconvert_exporter": "python",
   "pygments_lexer": "ipython3",
   "version": "3.4.2"
  }
 },
 "nbformat": 4,
 "nbformat_minor": 2
}
