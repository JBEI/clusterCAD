{
 "cells": [
  {
   "cell_type": "markdown",
   "metadata": {
    "deletable": true,
    "editable": true
   },
   "source": [
    "# Check sequence queries"
   ]
  },
  {
   "cell_type": "code",
   "execution_count": 2,
   "metadata": {
    "collapsed": true,
    "deletable": true,
    "editable": true
   },
   "outputs": [],
   "source": [
    "import os, sys\n",
    "sys.path.insert(0, '/clusterCAD')\n",
    "os.environ.setdefault(\"DJANGO_SETTINGS_MODULE\", \"clusterCAD.settings\")\n",
    "import django\n",
    "django.setup()\n",
    "import pks.models\n",
    "import compounddb.models"
   ]
  },
  {
   "cell_type": "code",
   "execution_count": 22,
   "metadata": {
    "collapsed": false,
    "deletable": true,
    "editable": true
   },
   "outputs": [],
   "source": [
    "from Bio.Seq import Seq\n",
    "from Bio.Alphabet import generic_dna\n",
    "\n",
    "#acc = 'BGC0001040.1' # incorrect\n",
    "#acc = 'BGC0000050.1' # correct\n",
    "acc = 'BGC0000055.1' # correct\n",
    "#acc = 'BGC0000122.1' # incorrect\n",
    "\n",
    "cluster = pks.models.Cluster.objects.get(mibigAccession=acc)\n",
    "subunit = cluster.subunits()[0]"
   ]
  },
  {
   "cell_type": "code",
   "execution_count": 23,
   "metadata": {
    "collapsed": false,
    "deletable": true,
    "editable": true
   },
   "outputs": [
    {
     "name": "stdout",
     "output_type": "stream",
     "text": [
      "VADLSKLSDS\n",
      "MADLSKLSDS\n",
      "EALGRELDGD*\n",
      "EALGRELDGD\n",
      "3546\n",
      "3545\n",
      "substrate prop, loading True\n",
      "VFPGQGAQWA\n",
      "VFPGQGAQWA\n",
      "AAVVPTLQRG\n",
      "AAVVPTLQRG\n",
      "294\n",
      "294\n",
      "domain\n",
      "AVVNGETAAL\n",
      "AVVNGETAAL\n",
      "PRALAEALAA\n",
      "PRALAEALAA\n",
      "66\n",
      "66\n"
     ]
    }
   ],
   "source": [
    "translated= Seq(subunit.getNucleotideSequence(), generic_dna).translate()\n",
    "direct = subunit.getAminoAcidSequence()\n",
    "\n",
    "n = 10\n",
    "print(translated[:n])\n",
    "print(direct[:n])\n",
    "print(translated[len(translated)-n-1:])\n",
    "print(direct[len(direct)-n:])\n",
    "\n",
    "print(len(translated))\n",
    "print(len(direct))\n",
    "\n",
    "\n",
    "module = subunit.modules()[0]\n",
    "for domain in module.domains():\n",
    "    print(domain)\n",
    "    translated = Seq(domain.getNucleotideSequence(), generic_dna).translate()\n",
    "    direct = domain.getAminoAcidSequence()\n",
    "\n",
    "    n = 10\n",
    "    print(translated[:n])\n",
    "    print(direct[:n])\n",
    "    print(translated[len(translated)-n:])\n",
    "    print(direct[len(direct)-n:])\n",
    "\n",
    "    print(len(translated))\n",
    "    print(len(direct))"
   ]
  },
  {
   "cell_type": "code",
   "execution_count": 24,
   "metadata": {
    "collapsed": false
   },
   "outputs": [
    {
     "name": "stdout",
     "output_type": "stream",
     "text": [
      "SIAVELPAEC\n",
      "MADLSKLSDS\n",
      "PTVGEL*QVRH\n",
      "EALGRELDGD\n",
      "3546\n",
      "3545\n",
      "substrate prop, loading True\n",
      "PALQRRDHRG\n",
      "VFPGQGAQWA\n",
      "GPLRALARED\n",
      "AAVVPTLQRG\n",
      "294\n",
      "294\n",
      "domain\n",
      "RRECFRERTR\n",
      "AVVNGETAAL\n",
      "QRGGLAVDDR\n",
      "PRALAEALAA\n",
      "66\n",
      "66\n"
     ]
    }
   ],
   "source": [
    "translated = Seq(subunit.getNucleotideSequence(), generic_dna).reverse_complement().translate()\n",
    "direct = subunit.getAminoAcidSequence()\n",
    "\n",
    "n = 10\n",
    "print(translated[:n])\n",
    "print(direct[:n])\n",
    "print(translated[len(translated)-n-1:])\n",
    "print(direct[len(direct)-n:])\n",
    "\n",
    "print(len(translated))\n",
    "print(len(direct))\n",
    "\n",
    "\n",
    "module = subunit.modules()[0]\n",
    "for domain in module.domains():\n",
    "    print(domain)\n",
    "    translated = Seq(domain.getNucleotideSequence(), generic_dna).reverse_complement().translate()\n",
    "    direct = domain.getAminoAcidSequence()\n",
    "\n",
    "    n = 10\n",
    "    print(translated[:n])\n",
    "    print(direct[:n])\n",
    "    print(translated[len(translated)-n:])\n",
    "    print(direct[len(direct)-n:])\n",
    "\n",
    "    print(len(translated))\n",
    "    print(len(direct))"
   ]
  },
  {
   "cell_type": "code",
   "execution_count": null,
   "metadata": {
    "collapsed": true
   },
   "outputs": [],
   "source": []
  }
 ],
 "metadata": {
  "anaconda-cloud": {},
  "kernelspec": {
   "display_name": "Python 3",
   "language": "python",
   "name": "python3"
  },
  "language_info": {
   "codemirror_mode": {
    "name": "ipython",
    "version": 3
   },
   "file_extension": ".py",
   "mimetype": "text/x-python",
   "name": "python",
   "nbconvert_exporter": "python",
   "pygments_lexer": "ipython3",
   "version": "3.4.2"
  }
 },
 "nbformat": 4,
 "nbformat_minor": 1
}
