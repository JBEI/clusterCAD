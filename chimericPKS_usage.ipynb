{
 "cells": [
  {
   "cell_type": "code",
   "execution_count": 2,
   "metadata": {},
   "outputs": [],
   "source": [
    "import os, sys\n",
    "import django\n",
    "import numpy as np\n",
    "sys.path.insert(0, '/clusterCAD')\n",
    "os.environ.setdefault(\"DJANGO_SETTINGS_MODULE\", \"clusterCAD.settings\")\n",
    "django.setup()\n",
    "import pks.models\n",
    "import chimericPKS.models as chimeric"
   ]
  },
  {
   "cell_type": "code",
   "execution_count": null,
   "metadata": {},
   "outputs": [],
   "source": [
    "# THIS DOCUMENT SHOWS SOME BASIC FUNCTIONALITY OF FUNCTIONS I WROTE INSIDE MODELS.PY\n",
    "# I SHOW BASIC OPERATIONS SUCH AS INSERTION, DELETION AND REPLACING."
   ]
  },
  {
   "cell_type": "code",
   "execution_count": 28,
   "metadata": {},
   "outputs": [
    {
     "name": "stdout",
     "output_type": "stream",
     "text": [
      "These are what subunits the pks object samplePKS contains: \n",
      "<QuerySet [sample_subunit1_order:0, sample_subunit2_order:1, sample_subunit3_order:2, sample_subunit4_order:3]>\n",
      "\n",
      "Deleting sample_subunit2 and sample_subunit3 from samplePKS: \n",
      "These are what subunits the pks object samplePKS contains after deletion: \n",
      "<QuerySet [sample_subunit1_order:0, sample_subunit4_order:1]>\n",
      "\n",
      "Adding a subunit called sample3 to samplePKS at position 1\n",
      "These are what subunits the pks object samplePKS contains after insertion: \n",
      "<QuerySet [sample_subunit1_order:0, sample3_order:1, sample_subunit4_order:2]>\n",
      "\n",
      "Adding a subunit called sample2 to samplePKS at position 1\n",
      "These are what subunits the pks object samplePKS contains after insertion: \n",
      "<QuerySet [sample_subunit1_order:0, sample3_order:1, sample2_order:2, sample_subunit4_order:3]>\n",
      "\n",
      "Creating a new sample PKS called samplePKS1\n",
      "samplePKS1 contains: \n",
      "<QuerySet [sample1_order:0, sample2_order:1, sample3_order:2, sample5_order:3]>\n",
      "\n",
      "samplePKS contains: \n",
      "<QuerySet [sample_subunit1_order:0, sample3_order:1, sample2_order:2, sample_subunit4_order:3]>\n"
     ]
    }
   ],
   "source": [
    "# Create a sample chimericPKS object:\n",
    "samplePKS = chimeric.ChimericPKS(name=\"sample\", length=40)\n",
    "samplePKS.save()\n",
    "sampleSubunit1 = chimeric.ChimericSubunit(name=\"sample_subunit1\", chimericPKS=samplePKS)\n",
    "sampleSubunit1.save()\n",
    "sampleSubunit2 = chimeric.ChimericSubunit(name=\"sample_subunit2\", chimericPKS=samplePKS)\n",
    "sampleSubunit2.save()\n",
    "sampleSubunit3 = chimeric.ChimericSubunit(name=\"sample_subunit3\", chimericPKS=samplePKS)\n",
    "sampleSubunit3.save()\n",
    "sampleSubunit4 = chimeric.ChimericSubunit(name=\"sample_subunit4\", chimericPKS=samplePKS)\n",
    "sampleSubunit4.save()\n",
    "\n",
    "print(\"These are what subunits the pks object samplePKS contains: \")\n",
    "print(samplePKS.subunits())\n",
    "print()\n",
    "print(\"Deleting sample_subunit2 and sample_subunit3 from samplePKS: \")\n",
    "samplePKS.delete([sampleSubunit2, sampleSubunit3])\n",
    "print(\"These are what subunits the pks object samplePKS contains after deletion: \")\n",
    "print(samplePKS.subunits())\n",
    "print()\n",
    "\n",
    "print(\"Adding a subunit called sample3 to samplePKS at position 1\")\n",
    "sampleSubunit3 = chimeric.ChimericSubunit(name=\"sample3\", chimericPKS=samplePKS, order=1)\n",
    "sampleSubunit3.save()\n",
    "print(\"These are what subunits the pks object samplePKS contains after insertion: \")\n",
    "print(samplePKS.subunits())\n",
    "\n",
    "print()\n",
    "print(\"Adding a subunit called sample2 to samplePKS at position 1\")\n",
    "sampleSubunit2 = chimeric.ChimericSubunit(name=\"sample2\", chimericPKS=samplePKS, order=2)\n",
    "sampleSubunit2.save()\n",
    "print(\"These are what subunits the pks object samplePKS contains after insertion: \")\n",
    "print(samplePKS.subunits())\n",
    "print()\n",
    "\n",
    "# Create another sample chimericPKS object:\n",
    "print(\"Creating a new sample PKS called samplePKS1\")\n",
    "samplePKS1 = chimeric.ChimericPKS(name=\"sample1\", length=40)\n",
    "samplePKS1.save()\n",
    "sampleSubunit1 = chimeric.ChimericSubunit(name=\"sample1\", chimericPKS=samplePKS1)\n",
    "sampleSubunit1.save()\n",
    "sampleSubunit2 = chimeric.ChimericSubunit(name=\"sample2\", chimericPKS=samplePKS1)\n",
    "sampleSubunit2.save()\n",
    "sampleSubunit3 = chimeric.ChimericSubunit(name=\"sample3\", chimericPKS=samplePKS1)\n",
    "sampleSubunit3.save()\n",
    "sampleSubunit4 = chimeric.ChimericSubunit(name=\"sample5\", chimericPKS=samplePKS1)\n",
    "sampleSubunit4.save()\n",
    "print(\"samplePKS1 contains: \")\n",
    "print(samplePKS1.subunits())\n",
    "print()\n",
    "print(\"samplePKS contains: \")\n",
    "print(samplePKS.subunits())\n"
   ]
  },
  {
   "cell_type": "code",
   "execution_count": 35,
   "metadata": {},
   "outputs": [],
   "source": [
    "def replace(position1, subunit1, position2, subunit2):\n",
    "    # Replace position1 of subunit1 by position2 of subunit2\n",
    "    original_chimericPKS = subunit1.subunits()[position1].chimericPKS\n",
    "    subunit1.delete_on_order(position1)\n",
    "    new_instance = subunit2.subunits()[position2]\n",
    "    \n",
    "    # THIS COPIES THE ENTRY, ACCORDING TO ONLINE DOCUMENTATION\n",
    "    new_instance.pk=None\n",
    "    new_instance.save()\n",
    "    new_instance.chimericPKS = original_chimericPKS\n",
    "    new_instance.order = position1\n",
    "    new_instance.save()\n",
    "    \n",
    "    return \n"
   ]
  },
  {
   "cell_type": "code",
   "execution_count": 36,
   "metadata": {},
   "outputs": [
    {
     "name": "stdout",
     "output_type": "stream",
     "text": [
      "Original samplePKS1\n",
      "<QuerySet [sample1_order:0, sample2_order:1, sample2_order:2, sample5_order:3]>\n",
      "\n",
      "Original samplePKS\n",
      "<QuerySet [sample_subunit1_order:0, sample3_order:1, sample2_order:8, sample_subunit4_order:9]>\n",
      "\n",
      "Replace samplePKS1 entry 2 by samplePKS entry2\n",
      "\n",
      "Modified samplePKS1\n",
      "<QuerySet [sample1_order:0, sample2_order:1, sample2_order:2, sample5_order:3]>\n",
      "\n",
      "Modified samplePKS\n",
      "<QuerySet [sample_subunit1_order:0, sample3_order:1, sample2_order:9, sample_subunit4_order:10]>\n"
     ]
    }
   ],
   "source": [
    "print(\"Original samplePKS1\")\n",
    "print(samplePKS1.subunits())\n",
    "print()\n",
    "print(\"Original samplePKS\")\n",
    "print(samplePKS.subunits())\n",
    "print()\n",
    "pos1 = 2\n",
    "pos2 = 2\n",
    "replace(pos1, samplePKS1, pos2, samplePKS)\n",
    "print(\"Replace samplePKS1 entry \"+str(pos1)+ \" by samplePKS entry\"+str(pos2))\n",
    "print()\n",
    "print(\"Modified samplePKS1\")\n",
    "print(samplePKS1.subunits())\n",
    "print()\n",
    "print(\"Modified samplePKS\")\n",
    "print(samplePKS.subunits())"
   ]
  },
  {
   "cell_type": "code",
   "execution_count": null,
   "metadata": {},
   "outputs": [],
   "source": [
    "# THE FOLLOWING TWO FUNCTIONS ARE JUST PROTOTYPES, INSERTION IS HANDLED WHEN AN INSTANCE IS INITIALIZED \n",
    "# IN THE VERSION OF CODE I HAVE, AS WE NEED TO SPECIFY THE PARENT STRUCTURE."
   ]
  },
  {
   "cell_type": "code",
   "execution_count": 5,
   "metadata": {},
   "outputs": [
    {
     "name": "stdout",
     "output_type": "stream",
     "text": [
      "0\n",
      "0\n",
      "0\n",
      "0\n",
      "1\n",
      "2\n",
      "2\n"
     ]
    },
    {
     "data": {
      "text/plain": [
       "([2, 5], [0, 1, 4, 8, 9])"
      ]
     },
     "execution_count": 5,
     "metadata": {},
     "output_type": "execute_result"
    }
   ],
   "source": [
    "def insert(positions, length):\n",
    "        total_length = length\n",
    "        # positions is a list\n",
    "        # subunits is a list\n",
    "        new_order = [sum(positions[:i+1]) for i in range(len(positions))]\n",
    "        old_fragment_update=[]\n",
    "        position_index = 0\n",
    "        previous = np.arange(length)\n",
    "\n",
    "        for fragment in previous:\n",
    "            #Current position in position list\n",
    "            position_index=min(position_index, len(positions)-1)\n",
    "            added_term = 0\n",
    "            \n",
    "            if fragment < positions[position_index]:\n",
    "                print(position_index)\n",
    "                added_term = fragment + sum(positions[:position_index])\n",
    "            else:\n",
    "                position_index += 1\n",
    "                added_term = fragment + sum(positions[:position_index])\n",
    "            print(position_index)\n",
    "            old_fragment_update.append(added_term)\n",
    "\n",
    "        if new_order[0] == 0:\n",
    "            new_order[0] = -1\n",
    "        return new_order, old_fragment_update\n",
    "\n",
    "insert([2, 3], 5)"
   ]
  },
  {
   "cell_type": "code",
   "execution_count": null,
   "metadata": {},
   "outputs": [],
   "source": [
    "def insert(positions, length):\n",
    "        #Support add last\n",
    "        last=False\n",
    "        if positions[-1] == length+1:\n",
    "            last=True\n",
    "            positions = positions[:-1]\n",
    "            \n",
    "        total_length = length\n",
    "        old_fragment_update=[]\n",
    "        position_index = 0\n",
    "        previous_index = 0\n",
    "        added_term = 0\n",
    "        previous = np.arange(length)\n",
    "        new_index = []\n",
    "        while position_index + previous_index < len(positions) + length:\n",
    "            if position_index == len(positions) or previous[previous_index] + added_term < positions[position_index] + min(0, (added_term-1)*-1)*-1:\n",
    "                old_fragment_update.append(previous[previous_index] + added_term)\n",
    "                previous_index += 1\n",
    "            else:\n",
    "#                 old_fragment_update.append(positions[position_index] + min(0, (added_term-1)*-1)*-1)\n",
    "                new_index.append(positions[position_index] + min(0, (added_term-1)*-1)*-1)\n",
    "                position_index += 1\n",
    "                added_term += 1\n",
    "        if last:\n",
    "            last_value = position_index + previous_index\n",
    "#             old_fragment_update.append(last_value)\n",
    "            new_index.append(last_value)\n",
    "        return new_index, old_fragment_update\n",
    "\n",
    "print(insert([2, 3], 5))\n",
    "print(insert([3, 5, 8], 8))\n",
    "print(insert([1, 2, 6], 5))"
   ]
  },
  {
   "cell_type": "code",
   "execution_count": 1,
   "metadata": {},
   "outputs": [],
   "source": [
    "editOps= \\\n",
    "[('delete', 0, 0),\n",
    " ('replace', 1, 0),\n",
    " ('replace', 4, 3),\n",
    " ('insert', 6, 5),\n",
    " ('replace', 6, 6),\n",
    " ('insert', 11, 11)]\n"
   ]
  },
  {
   "cell_type": "code",
   "execution_count": null,
   "metadata": {},
   "outputs": [],
   "source": []
  }
 ],
 "metadata": {
  "kernelspec": {
   "display_name": "Python 3",
   "language": "python",
   "name": "python3"
  },
  "language_info": {
   "codemirror_mode": {
    "name": "ipython",
    "version": 3
   },
   "file_extension": ".py",
   "mimetype": "text/x-python",
   "name": "python",
   "nbconvert_exporter": "python",
   "pygments_lexer": "ipython3",
   "version": "3.7.3"
  }
 },
 "nbformat": 4,
 "nbformat_minor": 2
}
